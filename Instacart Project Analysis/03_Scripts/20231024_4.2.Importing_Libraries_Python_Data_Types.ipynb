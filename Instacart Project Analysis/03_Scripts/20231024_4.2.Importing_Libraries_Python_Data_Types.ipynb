{
 "cells": [
  {
   "cell_type": "markdown",
   "id": "38edb037",
   "metadata": {},
   "source": [
    "**4.2. Importing Libraries and Python Data Types**"
   ]
  },
  {
   "cell_type": "markdown",
   "id": "e836e0ac",
   "metadata": {},
   "source": [
    "Content:\n",
    "- #01 Importing Libraries\n",
    "- #02 Data Types"
   ]
  },
  {
   "cell_type": "markdown",
   "id": "5ec63a80",
   "metadata": {},
   "source": [
    "#01.Importing Libraries"
   ]
  },
  {
   "cell_type": "code",
   "execution_count": 1,
   "id": "f068cd3b",
   "metadata": {},
   "outputs": [],
   "source": [
    "#Import libraries\n",
    "import pandas as pd\n",
    "import numpy as np\n",
    "import os"
   ]
  },
  {
   "cell_type": "markdown",
   "id": "39a78a10",
   "metadata": {},
   "source": [
    "#02.Data Types"
   ]
  },
  {
   "cell_type": "code",
   "execution_count": 28,
   "id": "7b9ffdc5",
   "metadata": {},
   "outputs": [],
   "source": [
    "#7.defining numeric variables\n",
    "x=40\n",
    "y=60"
   ]
  },
  {
   "cell_type": "code",
   "execution_count": 29,
   "id": "9235bbbb",
   "metadata": {},
   "outputs": [
    {
     "data": {
      "text/plain": [
       "100"
      ]
     },
     "execution_count": 29,
     "metadata": {},
     "output_type": "execute_result"
    }
   ],
   "source": [
    "#7.1 way of reaching 100\n",
    "x+y"
   ]
  },
  {
   "cell_type": "code",
   "execution_count": 30,
   "id": "18c8bfc2",
   "metadata": {},
   "outputs": [],
   "source": [
    "#7.adding a new numeric variable\n",
    "z=200"
   ]
  },
  {
   "cell_type": "code",
   "execution_count": 31,
   "id": "48774991",
   "metadata": {},
   "outputs": [
    {
     "data": {
      "text/plain": [
       "100"
      ]
     },
     "execution_count": 31,
     "metadata": {},
     "output_type": "execute_result"
    }
   ],
   "source": [
    "#7.2 way of reaching 100\n",
    "z-x-y"
   ]
  },
  {
   "cell_type": "code",
   "execution_count": 32,
   "id": "ed2df105",
   "metadata": {},
   "outputs": [],
   "source": [
    "#7.defining a new numeric variable\n",
    "a=z-x"
   ]
  },
  {
   "cell_type": "code",
   "execution_count": 34,
   "id": "d293c21b",
   "metadata": {},
   "outputs": [
    {
     "data": {
      "text/plain": [
       "100"
      ]
     },
     "execution_count": 34,
     "metadata": {},
     "output_type": "execute_result"
    }
   ],
   "source": [
    "#7.3 way of reaching 100\n",
    "a-y"
   ]
  },
  {
   "cell_type": "code",
   "execution_count": 35,
   "id": "ffe29cce",
   "metadata": {},
   "outputs": [],
   "source": [
    "#8.defining 2 floating-point variables\n",
    "w=0.1\n",
    "k=0.01"
   ]
  },
  {
   "cell_type": "code",
   "execution_count": 39,
   "id": "0cec026e",
   "metadata": {},
   "outputs": [
    {
     "data": {
      "text/plain": [
       "float"
      ]
     },
     "execution_count": 39,
     "metadata": {},
     "output_type": "execute_result"
    }
   ],
   "source": [
    "type(w)"
   ]
  },
  {
   "cell_type": "code",
   "execution_count": 40,
   "id": "eb442169",
   "metadata": {},
   "outputs": [
    {
     "data": {
      "text/plain": [
       "float"
      ]
     },
     "execution_count": 40,
     "metadata": {},
     "output_type": "execute_result"
    }
   ],
   "source": [
    "type(k)"
   ]
  },
  {
   "cell_type": "code",
   "execution_count": 41,
   "id": "1182e634",
   "metadata": {},
   "outputs": [
    {
     "data": {
      "text/plain": [
       "10.0"
      ]
     },
     "execution_count": 41,
     "metadata": {},
     "output_type": "execute_result"
    }
   ],
   "source": [
    "#8.dividing 2 floating-point variable by each other\n",
    "w/k"
   ]
  },
  {
   "cell_type": "code",
   "execution_count": 43,
   "id": "5b5284d9",
   "metadata": {},
   "outputs": [
    {
     "data": {
      "text/plain": [
       "'supernova'"
      ]
     },
     "execution_count": 43,
     "metadata": {},
     "output_type": "execute_result"
    }
   ],
   "source": [
    "#9.constructing a short word made of separate strings\n",
    "s='super'\n",
    "n='nova'\n",
    "s+n"
   ]
  },
  {
   "cell_type": "code",
   "execution_count": 46,
   "id": "7b3fdbf0",
   "metadata": {},
   "outputs": [
    {
     "data": {
      "text/plain": [
       "'Dear Mr. Potato Head,'"
      ]
     },
     "execution_count": 46,
     "metadata": {},
     "output_type": "execute_result"
    }
   ],
   "source": [
    "#10.1 constructing a short sentence made of separate strings\n",
    "g='Dear '\n",
    "h='Mr. '\n",
    "n='Potato '\n",
    "s='Head,'\n",
    "g+h+n+s"
   ]
  },
  {
   "cell_type": "code",
   "execution_count": 48,
   "id": "ec7c37be",
   "metadata": {},
   "outputs": [
    {
     "data": {
      "text/plain": [
       "'Love, Buzz Lightyear'"
      ]
     },
     "execution_count": 48,
     "metadata": {},
     "output_type": "execute_result"
    }
   ],
   "source": [
    "#10.2 constructing a short sentence made of separate strings\n",
    "a='Love, '\n",
    "b='Buzz '\n",
    "l='Lightyear'\n",
    "a+b+l"
   ]
  },
  {
   "cell_type": "code",
   "execution_count": 53,
   "id": "307705eb",
   "metadata": {},
   "outputs": [
    {
     "data": {
      "text/plain": [
       "'Love, Buzz Lightyear Love, Buzz Lightyear Love, Buzz Lightyear Love, Buzz Lightyear Love, Buzz Lightyear Love, Buzz Lightyear Love, Buzz Lightyear Love, Buzz Lightyear Love, Buzz Lightyear Love, Buzz Lightyear Love, Buzz Lightyear Love, Buzz Lightyear Love, Buzz Lightyear Love, Buzz Lightyear Love, Buzz Lightyear Love, Buzz Lightyear Love, Buzz Lightyear Love, Buzz Lightyear Love, Buzz Lightyear Love, Buzz Lightyear Love, Buzz Lightyear Love, Buzz Lightyear Love, Buzz Lightyear Love, Buzz Lightyear Love, Buzz Lightyear Love, Buzz Lightyear Love, Buzz Lightyear Love, Buzz Lightyear Love, Buzz Lightyear Love, Buzz Lightyear Love, Buzz Lightyear Love, Buzz Lightyear Love, Buzz Lightyear Love, Buzz Lightyear Love, Buzz Lightyear Love, Buzz Lightyear Love, Buzz Lightyear Love, Buzz Lightyear Love, Buzz Lightyear Love, Buzz Lightyear Love, Buzz Lightyear Love, Buzz Lightyear Love, Buzz Lightyear Love, Buzz Lightyear Love, Buzz Lightyear Love, Buzz Lightyear Love, Buzz Lightyear Love, Buzz Lightyear Love, Buzz Lightyear Love, Buzz Lightyear Love, Buzz Lightyear Love, Buzz Lightyear Love, Buzz Lightyear Love, Buzz Lightyear Love, Buzz Lightyear Love, Buzz Lightyear Love, Buzz Lightyear Love, Buzz Lightyear Love, Buzz Lightyear Love, Buzz Lightyear Love, Buzz Lightyear Love, Buzz Lightyear Love, Buzz Lightyear Love, Buzz Lightyear Love, Buzz Lightyear Love, Buzz Lightyear Love, Buzz Lightyear Love, Buzz Lightyear Love, Buzz Lightyear Love, Buzz Lightyear Love, Buzz Lightyear Love, Buzz Lightyear Love, Buzz Lightyear Love, Buzz Lightyear Love, Buzz Lightyear Love, Buzz Lightyear Love, Buzz Lightyear Love, Buzz Lightyear Love, Buzz Lightyear Love, Buzz Lightyear Love, Buzz Lightyear Love, Buzz Lightyear Love, Buzz Lightyear Love, Buzz Lightyear Love, Buzz Lightyear Love, Buzz Lightyear Love, Buzz Lightyear Love, Buzz Lightyear Love, Buzz Lightyear Love, Buzz Lightyear Love, Buzz Lightyear Love, Buzz Lightyear Love, Buzz Lightyear Love, Buzz Lightyear Love, Buzz Lightyear Love, Buzz Lightyear Love, Buzz Lightyear Love, Buzz Lightyear Love, Buzz Lightyear Love, Buzz Lightyear '"
      ]
     },
     "execution_count": 53,
     "metadata": {},
     "output_type": "execute_result"
    }
   ],
   "source": [
    "#Bonus\n",
    "x=a+b+l+' '\n",
    "x*100"
   ]
  }
 ],
 "metadata": {
  "kernelspec": {
   "display_name": "Python 3 (ipykernel)",
   "language": "python",
   "name": "python3"
  },
  "language_info": {
   "codemirror_mode": {
    "name": "ipython",
    "version": 3
   },
   "file_extension": ".py",
   "mimetype": "text/x-python",
   "name": "python",
   "nbconvert_exporter": "python",
   "pygments_lexer": "ipython3",
   "version": "3.11.5"
  }
 },
 "nbformat": 4,
 "nbformat_minor": 5
}
