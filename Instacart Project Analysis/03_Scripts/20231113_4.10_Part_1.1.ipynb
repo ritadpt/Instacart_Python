{
 "cells": [
  {
   "cell_type": "markdown",
   "id": "f95538ca",
   "metadata": {},
   "source": [
    "**4.10 Coding Etiquette & Excel Reporting - Task - Part 1**"
   ]
  },
  {
   "cell_type": "markdown",
   "id": "715c2f45",
   "metadata": {},
   "source": [
    "Content:\n",
    "- #01 Task 1 - Importing the most up-to-date dataset\n",
    "- #02 Task 2 - Consider any security implications of the data and address any PII data\n",
    "- #03 Task 3 - Create a regional segmentation of the data \n",
    "- #04 Task 4 - Create an exclusion flag for low-activity customers and exclude them from the data\n",
    "- #05 Task 5 - Create a profiling variable based on age, income, certain goods in the 'department_id' column, and number of dependents"
   ]
  },
  {
   "cell_type": "markdown",
   "id": "7fd62217",
   "metadata": {},
   "source": [
    "***\n",
    "\n",
    "#01 **Task 1** - Import the dataset \n",
    "\n",
    "***"
   ]
  },
  {
   "cell_type": "code",
   "execution_count": 2,
   "id": "deba1a1b",
   "metadata": {},
   "outputs": [],
   "source": [
    "#import libraries\n",
    "import pandas as pd\n",
    "import numpy as np\n",
    "import os"
   ]
  },
  {
   "cell_type": "code",
   "execution_count": 3,
   "id": "57988177",
   "metadata": {},
   "outputs": [],
   "source": [
    "#set path\n",
    "path=r'C:\\Users\\EliteMini HX90\\OneDrive\\Documents\\CareerFoundry\\Instacart Project Analysis'"
   ]
  },
  {
   "cell_type": "code",
   "execution_count": 4,
   "id": "29aafac3",
   "metadata": {},
   "outputs": [],
   "source": [
    "#import dataset\n",
    "ords_prods_merge = pd.read_pickle(os.path.join(path,'02_Data','02_Prepared_Data','20231107_orders_products_merged_new.pkl'))"
   ]
  },
  {
   "cell_type": "markdown",
   "id": "5c618bc5",
   "metadata": {},
   "source": [
    "***\n",
    "\n",
    "#02 **Task 2** - Consider any security implications and address any PII data\n",
    "\n",
    "***"
   ]
  },
  {
   "cell_type": "code",
   "execution_count": 5,
   "id": "fb793ede",
   "metadata": {},
   "outputs": [
    {
     "data": {
      "text/html": [
       "<div>\n",
       "<style scoped>\n",
       "    .dataframe tbody tr th:only-of-type {\n",
       "        vertical-align: middle;\n",
       "    }\n",
       "\n",
       "    .dataframe tbody tr th {\n",
       "        vertical-align: top;\n",
       "    }\n",
       "\n",
       "    .dataframe thead th {\n",
       "        text-align: right;\n",
       "    }\n",
       "</style>\n",
       "<table border=\"1\" class=\"dataframe\">\n",
       "  <thead>\n",
       "    <tr style=\"text-align: right;\">\n",
       "      <th></th>\n",
       "      <th>product_id</th>\n",
       "      <th>product_name</th>\n",
       "      <th>aisle_id</th>\n",
       "      <th>department_id</th>\n",
       "      <th>prices</th>\n",
       "      <th>order_id</th>\n",
       "      <th>user_id</th>\n",
       "      <th>order_number</th>\n",
       "      <th>orders_day_of_week</th>\n",
       "      <th>order_hour_of_day</th>\n",
       "      <th>...</th>\n",
       "      <th>frequency_flag</th>\n",
       "      <th>first_name</th>\n",
       "      <th>surname</th>\n",
       "      <th>gender</th>\n",
       "      <th>state</th>\n",
       "      <th>age</th>\n",
       "      <th>date_joined</th>\n",
       "      <th>n_dependants</th>\n",
       "      <th>fam_status</th>\n",
       "      <th>income</th>\n",
       "    </tr>\n",
       "  </thead>\n",
       "  <tbody>\n",
       "    <tr>\n",
       "      <th>0</th>\n",
       "      <td>1</td>\n",
       "      <td>Chocolate Sandwich Cookies</td>\n",
       "      <td>61</td>\n",
       "      <td>19</td>\n",
       "      <td>5.8</td>\n",
       "      <td>3139998</td>\n",
       "      <td>138</td>\n",
       "      <td>28</td>\n",
       "      <td>6</td>\n",
       "      <td>11</td>\n",
       "      <td>...</td>\n",
       "      <td>Frequent Customer</td>\n",
       "      <td>Charles</td>\n",
       "      <td>Cox</td>\n",
       "      <td>Male</td>\n",
       "      <td>Minnesota</td>\n",
       "      <td>81</td>\n",
       "      <td>8/1/2019</td>\n",
       "      <td>1</td>\n",
       "      <td>married</td>\n",
       "      <td>49620</td>\n",
       "    </tr>\n",
       "    <tr>\n",
       "      <th>1</th>\n",
       "      <td>1</td>\n",
       "      <td>Chocolate Sandwich Cookies</td>\n",
       "      <td>61</td>\n",
       "      <td>19</td>\n",
       "      <td>5.8</td>\n",
       "      <td>1977647</td>\n",
       "      <td>138</td>\n",
       "      <td>30</td>\n",
       "      <td>6</td>\n",
       "      <td>17</td>\n",
       "      <td>...</td>\n",
       "      <td>Frequent Customer</td>\n",
       "      <td>Charles</td>\n",
       "      <td>Cox</td>\n",
       "      <td>Male</td>\n",
       "      <td>Minnesota</td>\n",
       "      <td>81</td>\n",
       "      <td>8/1/2019</td>\n",
       "      <td>1</td>\n",
       "      <td>married</td>\n",
       "      <td>49620</td>\n",
       "    </tr>\n",
       "    <tr>\n",
       "      <th>2</th>\n",
       "      <td>907</td>\n",
       "      <td>Premium Sliced Bacon</td>\n",
       "      <td>106</td>\n",
       "      <td>12</td>\n",
       "      <td>20.0</td>\n",
       "      <td>3160996</td>\n",
       "      <td>138</td>\n",
       "      <td>1</td>\n",
       "      <td>5</td>\n",
       "      <td>13</td>\n",
       "      <td>...</td>\n",
       "      <td>Frequent Customer</td>\n",
       "      <td>Charles</td>\n",
       "      <td>Cox</td>\n",
       "      <td>Male</td>\n",
       "      <td>Minnesota</td>\n",
       "      <td>81</td>\n",
       "      <td>8/1/2019</td>\n",
       "      <td>1</td>\n",
       "      <td>married</td>\n",
       "      <td>49620</td>\n",
       "    </tr>\n",
       "    <tr>\n",
       "      <th>3</th>\n",
       "      <td>907</td>\n",
       "      <td>Premium Sliced Bacon</td>\n",
       "      <td>106</td>\n",
       "      <td>12</td>\n",
       "      <td>20.0</td>\n",
       "      <td>2254091</td>\n",
       "      <td>138</td>\n",
       "      <td>10</td>\n",
       "      <td>5</td>\n",
       "      <td>14</td>\n",
       "      <td>...</td>\n",
       "      <td>Frequent Customer</td>\n",
       "      <td>Charles</td>\n",
       "      <td>Cox</td>\n",
       "      <td>Male</td>\n",
       "      <td>Minnesota</td>\n",
       "      <td>81</td>\n",
       "      <td>8/1/2019</td>\n",
       "      <td>1</td>\n",
       "      <td>married</td>\n",
       "      <td>49620</td>\n",
       "    </tr>\n",
       "    <tr>\n",
       "      <th>4</th>\n",
       "      <td>1000</td>\n",
       "      <td>Apricots</td>\n",
       "      <td>18</td>\n",
       "      <td>10</td>\n",
       "      <td>12.9</td>\n",
       "      <td>505689</td>\n",
       "      <td>138</td>\n",
       "      <td>9</td>\n",
       "      <td>6</td>\n",
       "      <td>12</td>\n",
       "      <td>...</td>\n",
       "      <td>Frequent Customer</td>\n",
       "      <td>Charles</td>\n",
       "      <td>Cox</td>\n",
       "      <td>Male</td>\n",
       "      <td>Minnesota</td>\n",
       "      <td>81</td>\n",
       "      <td>8/1/2019</td>\n",
       "      <td>1</td>\n",
       "      <td>married</td>\n",
       "      <td>49620</td>\n",
       "    </tr>\n",
       "  </tbody>\n",
       "</table>\n",
       "<p>5 rows × 32 columns</p>\n",
       "</div>"
      ],
      "text/plain": [
       "   product_id                product_name  aisle_id  department_id  prices  \\\n",
       "0           1  Chocolate Sandwich Cookies        61             19     5.8   \n",
       "1           1  Chocolate Sandwich Cookies        61             19     5.8   \n",
       "2         907        Premium Sliced Bacon       106             12    20.0   \n",
       "3         907        Premium Sliced Bacon       106             12    20.0   \n",
       "4        1000                    Apricots        18             10    12.9   \n",
       "\n",
       "   order_id user_id  order_number  orders_day_of_week  order_hour_of_day  ...  \\\n",
       "0   3139998     138            28                   6                 11  ...   \n",
       "1   1977647     138            30                   6                 17  ...   \n",
       "2   3160996     138             1                   5                 13  ...   \n",
       "3   2254091     138            10                   5                 14  ...   \n",
       "4    505689     138             9                   6                 12  ...   \n",
       "\n",
       "      frequency_flag  first_name  surname gender      state age date_joined  \\\n",
       "0  Frequent Customer     Charles      Cox   Male  Minnesota  81    8/1/2019   \n",
       "1  Frequent Customer     Charles      Cox   Male  Minnesota  81    8/1/2019   \n",
       "2  Frequent Customer     Charles      Cox   Male  Minnesota  81    8/1/2019   \n",
       "3  Frequent Customer     Charles      Cox   Male  Minnesota  81    8/1/2019   \n",
       "4  Frequent Customer     Charles      Cox   Male  Minnesota  81    8/1/2019   \n",
       "\n",
       "   n_dependants fam_status  income  \n",
       "0             1    married   49620  \n",
       "1             1    married   49620  \n",
       "2             1    married   49620  \n",
       "3             1    married   49620  \n",
       "4             1    married   49620  \n",
       "\n",
       "[5 rows x 32 columns]"
      ]
     },
     "execution_count": 5,
     "metadata": {},
     "output_type": "execute_result"
    }
   ],
   "source": [
    "#check data\n",
    "ords_prods_merge.head()"
   ]
  },
  {
   "cell_type": "code",
   "execution_count": 6,
   "id": "2cd50dd1",
   "metadata": {},
   "outputs": [
    {
     "data": {
      "text/plain": [
       "Index(['product_id', 'product_name', 'aisle_id', 'department_id', 'prices',\n",
       "       'order_id', 'user_id', 'order_number', 'orders_day_of_week',\n",
       "       'order_hour_of_day', 'days_since_prior_order', 'add_to_cart_order',\n",
       "       'reordered', 'price_label', 'busiest_day', 'busiest_days',\n",
       "       'busiest_period_of_day', 'max_order', 'loyalty_flag', 'avg_price',\n",
       "       'spending_flag', 'median_days_since_order', 'frequency_flag',\n",
       "       'first_name', 'surname', 'gender', 'state', 'age', 'date_joined',\n",
       "       'n_dependants', 'fam_status', 'income'],\n",
       "      dtype='object')"
      ]
     },
     "execution_count": 6,
     "metadata": {},
     "output_type": "execute_result"
    }
   ],
   "source": [
    "#check all column names in df\n",
    "ords_prods_merge.columns"
   ]
  },
  {
   "cell_type": "markdown",
   "id": "4f3393be",
   "metadata": {},
   "source": [
    "First name and surname of customers are personally identifiable information. Considering we also have a user_id associated with each customer, we can delete these columns to comply with GDPR regulation.\n",
    "\n",
    "In a real-world scenario, this should be discussed with a senior colleague and/or sometone responsible for data security in the organisation."
   ]
  },
  {
   "cell_type": "code",
   "execution_count": 7,
   "id": "8431dce8",
   "metadata": {},
   "outputs": [],
   "source": [
    "#delete 'first_name' and 'surname'\n",
    "ords_prods_merge = ords_prods_merge.drop(columns=['first_name','surname'])"
   ]
  },
  {
   "cell_type": "code",
   "execution_count": 8,
   "id": "66066664",
   "metadata": {},
   "outputs": [
    {
     "data": {
      "text/plain": [
       "Index(['product_id', 'product_name', 'aisle_id', 'department_id', 'prices',\n",
       "       'order_id', 'user_id', 'order_number', 'orders_day_of_week',\n",
       "       'order_hour_of_day', 'days_since_prior_order', 'add_to_cart_order',\n",
       "       'reordered', 'price_label', 'busiest_day', 'busiest_days',\n",
       "       'busiest_period_of_day', 'max_order', 'loyalty_flag', 'avg_price',\n",
       "       'spending_flag', 'median_days_since_order', 'frequency_flag', 'gender',\n",
       "       'state', 'age', 'date_joined', 'n_dependants', 'fam_status', 'income'],\n",
       "      dtype='object')"
      ]
     },
     "execution_count": 8,
     "metadata": {},
     "output_type": "execute_result"
    }
   ],
   "source": [
    "#check all column names in df\n",
    "ords_prods_merge.columns"
   ]
  },
  {
   "cell_type": "markdown",
   "id": "6bdedf30",
   "metadata": {},
   "source": [
    "***\n",
    "\n",
    "#03 **Task 3** - Create a regional segmentation of the data\n",
    "\n",
    "***"
   ]
  },
  {
   "cell_type": "code",
   "execution_count": 9,
   "id": "c9f1e814",
   "metadata": {},
   "outputs": [
    {
     "data": {
      "text/plain": [
       "state\n",
       "Alabama                 638003\n",
       "Alaska                  648495\n",
       "Arizona                 653964\n",
       "Arkansas                636144\n",
       "California              659783\n",
       "Colorado                639280\n",
       "Connecticut             623022\n",
       "Delaware                637024\n",
       "District of Columbia    613695\n",
       "Florida                 629027\n",
       "Georgia                 656389\n",
       "Hawaii                  632901\n",
       "Idaho                   607119\n",
       "Illinois                633024\n",
       "Indiana                 627282\n",
       "Iowa                    625493\n",
       "Kansas                  637538\n",
       "Kentucky                632490\n",
       "Louisiana               637482\n",
       "Maine                   638583\n",
       "Maryland                626579\n",
       "Massachusetts           646358\n",
       "Michigan                630928\n",
       "Minnesota               647825\n",
       "Mississippi             632675\n",
       "Missouri                640732\n",
       "Montana                 635265\n",
       "Nebraska                625813\n",
       "Nevada                  636139\n",
       "New Hampshire           615378\n",
       "New Jersey              627692\n",
       "New Mexico              654494\n",
       "New York                635983\n",
       "North Carolina          651900\n",
       "North Dakota            638491\n",
       "Ohio                    628319\n",
       "Oklahoma                651739\n",
       "Oregon                  636425\n",
       "Pennsylvania            667082\n",
       "Rhode Island            656913\n",
       "South Carolina          636754\n",
       "South Dakota            633772\n",
       "Tennessee               617873\n",
       "Texas                   640394\n",
       "Utah                    611941\n",
       "Vermont                 611725\n",
       "Virginia                641421\n",
       "Washington              632852\n",
       "West Virginia           612296\n",
       "Wisconsin               628108\n",
       "Wyoming                 644255\n",
       "Name: count, dtype: int64"
      ]
     },
     "execution_count": 9,
     "metadata": {},
     "output_type": "execute_result"
    }
   ],
   "source": [
    "#check frequency table for state\n",
    "ords_prods_merge['state'].value_counts().sort_index()"
   ]
  },
  {
   "cell_type": "code",
   "execution_count": 10,
   "id": "3fa47216",
   "metadata": {},
   "outputs": [],
   "source": [
    "#create a for-loop list to assign each state to a region\n",
    "result_1 =  []\n",
    "\n",
    "for value in ords_prods_merge['state']:\n",
    "    if value in ['Maine','New Hampshire','Vermont','Massachusetts','Rhode Island','Connecticut','New York','Pennsylvania','New Jersey']:\n",
    "        result_1.append('Northeast')\n",
    "    elif value in ['Wisconsin','Michigan','Illinois','Indiana','Ohio','North Dakota','South Dakota','Nebraska','Kansas','Minnesota','Iowa','Missouri']:\n",
    "        result_1.append('Midwest')\n",
    "    elif value in [ 'Delaware','Maryland','District of Columbia','Virginia','West Virginia','North Carolina','South Carolina','Georgia','Florida','Kentucky','Tennessee','Mississippi','Alabama','Oklahoma','Texas','Arkansas','Louisiana']:\n",
    "        result_1.append('South')\n",
    "    else:\n",
    "        result_1.append('West')"
   ]
  },
  {
   "cell_type": "code",
   "execution_count": 11,
   "id": "7c4521c6",
   "metadata": {},
   "outputs": [],
   "source": [
    "#create a new column in the df to display the results of the for-loop list\n",
    "ords_prods_merge['region'] = result_1"
   ]
  },
  {
   "cell_type": "code",
   "execution_count": 12,
   "id": "ae851649",
   "metadata": {},
   "outputs": [
    {
     "data": {
      "text/plain": [
       "region\n",
       "South        10791885\n",
       "West          8292913\n",
       "Midwest       7597325\n",
       "Northeast     5722736\n",
       "Name: count, dtype: int64"
      ]
     },
     "execution_count": 12,
     "metadata": {},
     "output_type": "execute_result"
    }
   ],
   "source": [
    "#print frequency of newly created column to check for any errors or missing values\n",
    "ords_prods_merge['region'].value_counts(dropna=False)"
   ]
  },
  {
   "cell_type": "code",
   "execution_count": 13,
   "id": "ba23c61c",
   "metadata": {},
   "outputs": [
    {
     "data": {
      "text/html": [
       "<div>\n",
       "<style scoped>\n",
       "    .dataframe tbody tr th:only-of-type {\n",
       "        vertical-align: middle;\n",
       "    }\n",
       "\n",
       "    .dataframe tbody tr th {\n",
       "        vertical-align: top;\n",
       "    }\n",
       "\n",
       "    .dataframe thead th {\n",
       "        text-align: right;\n",
       "    }\n",
       "</style>\n",
       "<table border=\"1\" class=\"dataframe\">\n",
       "  <thead>\n",
       "    <tr style=\"text-align: right;\">\n",
       "      <th>spending_flag</th>\n",
       "      <th>High Spender</th>\n",
       "      <th>Low Spender</th>\n",
       "      <th>All</th>\n",
       "    </tr>\n",
       "    <tr>\n",
       "      <th>region</th>\n",
       "      <th></th>\n",
       "      <th></th>\n",
       "      <th></th>\n",
       "    </tr>\n",
       "  </thead>\n",
       "  <tbody>\n",
       "    <tr>\n",
       "      <th>Midwest</th>\n",
       "      <td>155975</td>\n",
       "      <td>7441350</td>\n",
       "      <td>7597325</td>\n",
       "    </tr>\n",
       "    <tr>\n",
       "      <th>Northeast</th>\n",
       "      <td>108225</td>\n",
       "      <td>5614511</td>\n",
       "      <td>5722736</td>\n",
       "    </tr>\n",
       "    <tr>\n",
       "      <th>South</th>\n",
       "      <td>209691</td>\n",
       "      <td>10582194</td>\n",
       "      <td>10791885</td>\n",
       "    </tr>\n",
       "    <tr>\n",
       "      <th>West</th>\n",
       "      <td>160354</td>\n",
       "      <td>8132559</td>\n",
       "      <td>8292913</td>\n",
       "    </tr>\n",
       "    <tr>\n",
       "      <th>All</th>\n",
       "      <td>634245</td>\n",
       "      <td>31770614</td>\n",
       "      <td>32404859</td>\n",
       "    </tr>\n",
       "  </tbody>\n",
       "</table>\n",
       "</div>"
      ],
      "text/plain": [
       "spending_flag  High Spender  Low Spender       All\n",
       "region                                            \n",
       "Midwest              155975      7441350   7597325\n",
       "Northeast            108225      5614511   5722736\n",
       "South                209691     10582194  10791885\n",
       "West                 160354      8132559   8292913\n",
       "All                  634245     31770614  32404859"
      ]
     },
     "execution_count": 13,
     "metadata": {},
     "output_type": "execute_result"
    }
   ],
   "source": [
    "#create crosstab of region and spending flag to check for differences in spending habits\n",
    "crosstab_region_spending_1 = pd.crosstab(ords_prods_merge['region'], ords_prods_merge['spending_flag'], margins=True, dropna = False)\n",
    "#print crosstab\n",
    "crosstab_region_spending_1"
   ]
  },
  {
   "cell_type": "markdown",
   "id": "29750bb8",
   "metadata": {},
   "source": [
    "The pattern for every region is to have a larger amount of \"low spenders\" than \"high spenders\". "
   ]
  },
  {
   "cell_type": "code",
   "execution_count": 14,
   "id": "aa48a81c",
   "metadata": {},
   "outputs": [
    {
     "data": {
      "text/html": [
       "<div>\n",
       "<style scoped>\n",
       "    .dataframe tbody tr th:only-of-type {\n",
       "        vertical-align: middle;\n",
       "    }\n",
       "\n",
       "    .dataframe tbody tr th {\n",
       "        vertical-align: top;\n",
       "    }\n",
       "\n",
       "    .dataframe thead th {\n",
       "        text-align: right;\n",
       "    }\n",
       "</style>\n",
       "<table border=\"1\" class=\"dataframe\">\n",
       "  <thead>\n",
       "    <tr style=\"text-align: right;\">\n",
       "      <th>spending_flag</th>\n",
       "      <th>High Spender</th>\n",
       "      <th>Low Spender</th>\n",
       "    </tr>\n",
       "    <tr>\n",
       "      <th>region</th>\n",
       "      <th></th>\n",
       "      <th></th>\n",
       "    </tr>\n",
       "  </thead>\n",
       "  <tbody>\n",
       "    <tr>\n",
       "      <th>Midwest</th>\n",
       "      <td>0.020530</td>\n",
       "      <td>0.979470</td>\n",
       "    </tr>\n",
       "    <tr>\n",
       "      <th>Northeast</th>\n",
       "      <td>0.018911</td>\n",
       "      <td>0.981089</td>\n",
       "    </tr>\n",
       "    <tr>\n",
       "      <th>South</th>\n",
       "      <td>0.019430</td>\n",
       "      <td>0.980570</td>\n",
       "    </tr>\n",
       "    <tr>\n",
       "      <th>West</th>\n",
       "      <td>0.019336</td>\n",
       "      <td>0.980664</td>\n",
       "    </tr>\n",
       "  </tbody>\n",
       "</table>\n",
       "</div>"
      ],
      "text/plain": [
       "spending_flag  High Spender  Low Spender\n",
       "region                                  \n",
       "Midwest            0.020530     0.979470\n",
       "Northeast          0.018911     0.981089\n",
       "South              0.019430     0.980570\n",
       "West               0.019336     0.980664"
      ]
     },
     "execution_count": 14,
     "metadata": {},
     "output_type": "execute_result"
    }
   ],
   "source": [
    "#create crosstab of region and spending flag normalised for easier comparison\n",
    "crosstab_region_spending_2 = pd.crosstab(ords_prods_merge['region'], ords_prods_merge['spending_flag'], normalize='index', dropna = False)\n",
    "#print crosstab\n",
    "crosstab_region_spending_2"
   ]
  },
  {
   "cell_type": "markdown",
   "id": "0e1ac689",
   "metadata": {},
   "source": [
    "The biggest difference between low spenders and high spenders seems to be in the Northeast region, and the smallest difference in the Midwest. However, the difference seems to be comparable across regions, with no particular region standing out from the others."
   ]
  },
  {
   "cell_type": "code",
   "execution_count": 15,
   "id": "15249a14",
   "metadata": {},
   "outputs": [
    {
     "data": {
      "text/html": [
       "<div>\n",
       "<style scoped>\n",
       "    .dataframe tbody tr th:only-of-type {\n",
       "        vertical-align: middle;\n",
       "    }\n",
       "\n",
       "    .dataframe tbody tr th {\n",
       "        vertical-align: top;\n",
       "    }\n",
       "\n",
       "    .dataframe thead th {\n",
       "        text-align: right;\n",
       "    }\n",
       "</style>\n",
       "<table border=\"1\" class=\"dataframe\">\n",
       "  <thead>\n",
       "    <tr style=\"text-align: right;\">\n",
       "      <th>region</th>\n",
       "      <th>Midwest</th>\n",
       "      <th>Northeast</th>\n",
       "      <th>South</th>\n",
       "      <th>West</th>\n",
       "    </tr>\n",
       "    <tr>\n",
       "      <th>spending_flag</th>\n",
       "      <th></th>\n",
       "      <th></th>\n",
       "      <th></th>\n",
       "      <th></th>\n",
       "    </tr>\n",
       "  </thead>\n",
       "  <tbody>\n",
       "    <tr>\n",
       "      <th>High Spender</th>\n",
       "      <td>0.245922</td>\n",
       "      <td>0.170636</td>\n",
       "      <td>0.330615</td>\n",
       "      <td>0.252827</td>\n",
       "    </tr>\n",
       "    <tr>\n",
       "      <th>Low Spender</th>\n",
       "      <td>0.234221</td>\n",
       "      <td>0.176720</td>\n",
       "      <td>0.333081</td>\n",
       "      <td>0.255977</td>\n",
       "    </tr>\n",
       "  </tbody>\n",
       "</table>\n",
       "</div>"
      ],
      "text/plain": [
       "region          Midwest  Northeast     South      West\n",
       "spending_flag                                         \n",
       "High Spender   0.245922   0.170636  0.330615  0.252827\n",
       "Low Spender    0.234221   0.176720  0.333081  0.255977"
      ]
     },
     "execution_count": 15,
     "metadata": {},
     "output_type": "execute_result"
    }
   ],
   "source": [
    "#create crosstab of region and spending flag normalised for easier comparison\n",
    "crosstab_region_spending_3 = pd.crosstab(ords_prods_merge['spending_flag'], ords_prods_merge['region'], normalize='index', dropna = False)\n",
    "#print crosstab\n",
    "crosstab_region_spending_3"
   ]
  },
  {
   "cell_type": "markdown",
   "id": "f646ea80",
   "metadata": {},
   "source": [
    "When it comes to impact on Instacart's USA market, the highest percentage of both high spenders and low spenders can be found in the South - easily explained by the fact that the region has the largest amount of customers."
   ]
  },
  {
   "cell_type": "markdown",
   "id": "d6c262da",
   "metadata": {},
   "source": [
    "***\n",
    "\n",
    "#04 **Task 4** - Create an exclusion flag for low-activity customers and exclude them from the data.\n",
    "\n",
    "***"
   ]
  },
  {
   "cell_type": "code",
   "execution_count": 16,
   "id": "548a2db6",
   "metadata": {},
   "outputs": [
    {
     "name": "stderr",
     "output_type": "stream",
     "text": [
      "C:\\Users\\EliteMini HX90\\AppData\\Local\\Temp\\ipykernel_13000\\2567756084.py:2: FutureWarning: Setting an item of incompatible dtype is deprecated and will raise in a future error of pandas. Value 'Low Activity' has dtype incompatible with float64, please explicitly cast to a compatible dtype first.\n",
      "  ords_prods_merge.loc[ords_prods_merge['max_order'] <5, 'activity_flag'] = 'Low Activity'\n"
     ]
    }
   ],
   "source": [
    "#set condition for low-activity flag\n",
    "ords_prods_merge.loc[ords_prods_merge['max_order'] <5, 'activity_flag'] = 'Low Activity'"
   ]
  },
  {
   "cell_type": "code",
   "execution_count": 17,
   "id": "e271d304",
   "metadata": {},
   "outputs": [
    {
     "data": {
      "text/plain": [
       "activity_flag\n",
       "NaN             30964564\n",
       "Low Activity     1440295\n",
       "Name: count, dtype: int64"
      ]
     },
     "execution_count": 17,
     "metadata": {},
     "output_type": "execute_result"
    }
   ],
   "source": [
    "#print frequency of newly created column \n",
    "ords_prods_merge['activity_flag'].value_counts(dropna=False)"
   ]
  },
  {
   "cell_type": "code",
   "execution_count": 18,
   "id": "850a860a",
   "metadata": {},
   "outputs": [],
   "source": [
    "#create subset df excluding low-activity customers\n",
    "ords_prods_active_only = ords_prods_merge[ords_prods_merge['activity_flag'].isnull()==True]"
   ]
  },
  {
   "cell_type": "code",
   "execution_count": 19,
   "id": "c8dba40e",
   "metadata": {},
   "outputs": [
    {
     "data": {
      "text/plain": [
       "activity_flag\n",
       "NaN    30964564\n",
       "Name: count, dtype: int64"
      ]
     },
     "execution_count": 19,
     "metadata": {},
     "output_type": "execute_result"
    }
   ],
   "source": [
    "#print frequency of column that should have only null values\n",
    "ords_prods_active_only['activity_flag'].value_counts(dropna=False)"
   ]
  },
  {
   "cell_type": "code",
   "execution_count": 20,
   "id": "06ff6ada",
   "metadata": {},
   "outputs": [],
   "source": [
    "#delete activity flag column from this subset\n",
    "ords_prods_active_only = ords_prods_active_only.drop(columns=['activity_flag'])"
   ]
  },
  {
   "cell_type": "code",
   "execution_count": 21,
   "id": "1a131b35",
   "metadata": {},
   "outputs": [
    {
     "data": {
      "text/plain": [
       "Index(['product_id', 'product_name', 'aisle_id', 'department_id', 'prices',\n",
       "       'order_id', 'user_id', 'order_number', 'orders_day_of_week',\n",
       "       'order_hour_of_day', 'days_since_prior_order', 'add_to_cart_order',\n",
       "       'reordered', 'price_label', 'busiest_day', 'busiest_days',\n",
       "       'busiest_period_of_day', 'max_order', 'loyalty_flag', 'avg_price',\n",
       "       'spending_flag', 'median_days_since_order', 'frequency_flag', 'gender',\n",
       "       'state', 'age', 'date_joined', 'n_dependants', 'fam_status', 'income',\n",
       "       'region'],\n",
       "      dtype='object')"
      ]
     },
     "execution_count": 21,
     "metadata": {},
     "output_type": "execute_result"
    }
   ],
   "source": [
    "ords_prods_active_only.columns"
   ]
  },
  {
   "cell_type": "code",
   "execution_count": 22,
   "id": "99e05b9b",
   "metadata": {},
   "outputs": [],
   "source": [
    "#create subset df including only low-activity customers\n",
    "ords_prods_low_activ = ords_prods_merge[ords_prods_merge['activity_flag']=='Low Activity']"
   ]
  },
  {
   "cell_type": "code",
   "execution_count": 23,
   "id": "752aab0e",
   "metadata": {},
   "outputs": [
    {
     "data": {
      "text/plain": [
       "activity_flag\n",
       "Low Activity    1440295\n",
       "Name: count, dtype: int64"
      ]
     },
     "execution_count": 23,
     "metadata": {},
     "output_type": "execute_result"
    }
   ],
   "source": [
    "#print frequency of column that should have no null values\n",
    "ords_prods_low_activ['activity_flag'].value_counts(dropna=False)"
   ]
  },
  {
   "cell_type": "code",
   "execution_count": 24,
   "id": "bbcac646",
   "metadata": {},
   "outputs": [],
   "source": [
    "#export low activity customers sample\n",
    "ords_prods_low_activ.to_pickle(os.path.join(path,'02_Data','02_Prepared_Data','ords_prods_low_activity_customers.pkl'))"
   ]
  },
  {
   "cell_type": "code",
   "execution_count": 25,
   "id": "34067773",
   "metadata": {},
   "outputs": [],
   "source": [
    "#export sample excluding low activity customers\n",
    "ords_prods_active_only.to_pickle(os.path.join(path,'02_Data','02_Prepared_Data','ords_prods_exclud_low_activity_customers.pkl'))"
   ]
  },
  {
   "cell_type": "markdown",
   "id": "6bda9dca",
   "metadata": {},
   "source": [
    "***\n",
    "\n",
    "#05 **Task 5** - Create a profiling variable\n",
    "\n",
    "***"
   ]
  },
  {
   "cell_type": "code",
   "execution_count": 26,
   "id": "4cb5edb0",
   "metadata": {},
   "outputs": [
    {
     "data": {
      "text/plain": [
       "Index(['product_id', 'product_name', 'aisle_id', 'department_id', 'prices',\n",
       "       'order_id', 'user_id', 'order_number', 'orders_day_of_week',\n",
       "       'order_hour_of_day', 'days_since_prior_order', 'add_to_cart_order',\n",
       "       'reordered', 'price_label', 'busiest_day', 'busiest_days',\n",
       "       'busiest_period_of_day', 'max_order', 'loyalty_flag', 'avg_price',\n",
       "       'spending_flag', 'median_days_since_order', 'frequency_flag', 'gender',\n",
       "       'state', 'age', 'date_joined', 'n_dependants', 'fam_status', 'income',\n",
       "       'region'],\n",
       "      dtype='object')"
      ]
     },
     "execution_count": 26,
     "metadata": {},
     "output_type": "execute_result"
    }
   ],
   "source": [
    "#check columns\n",
    "ords_prods_active_only.columns"
   ]
  },
  {
   "cell_type": "code",
   "execution_count": 27,
   "id": "c2362417",
   "metadata": {},
   "outputs": [],
   "source": [
    "#create subset with only relevant columns for task\n",
    "df_profile = ords_prods_active_only[['user_id','age','income','department_id','n_dependants','fam_status']]"
   ]
  },
  {
   "cell_type": "code",
   "execution_count": 28,
   "id": "00b430d3",
   "metadata": {},
   "outputs": [
    {
     "data": {
      "text/html": [
       "<div>\n",
       "<style scoped>\n",
       "    .dataframe tbody tr th:only-of-type {\n",
       "        vertical-align: middle;\n",
       "    }\n",
       "\n",
       "    .dataframe tbody tr th {\n",
       "        vertical-align: top;\n",
       "    }\n",
       "\n",
       "    .dataframe thead th {\n",
       "        text-align: right;\n",
       "    }\n",
       "</style>\n",
       "<table border=\"1\" class=\"dataframe\">\n",
       "  <thead>\n",
       "    <tr style=\"text-align: right;\">\n",
       "      <th></th>\n",
       "      <th>user_id</th>\n",
       "      <th>age</th>\n",
       "      <th>income</th>\n",
       "      <th>department_id</th>\n",
       "      <th>n_dependants</th>\n",
       "      <th>fam_status</th>\n",
       "    </tr>\n",
       "  </thead>\n",
       "  <tbody>\n",
       "    <tr>\n",
       "      <th>0</th>\n",
       "      <td>138</td>\n",
       "      <td>81</td>\n",
       "      <td>49620</td>\n",
       "      <td>19</td>\n",
       "      <td>1</td>\n",
       "      <td>married</td>\n",
       "    </tr>\n",
       "    <tr>\n",
       "      <th>1</th>\n",
       "      <td>138</td>\n",
       "      <td>81</td>\n",
       "      <td>49620</td>\n",
       "      <td>19</td>\n",
       "      <td>1</td>\n",
       "      <td>married</td>\n",
       "    </tr>\n",
       "    <tr>\n",
       "      <th>2</th>\n",
       "      <td>138</td>\n",
       "      <td>81</td>\n",
       "      <td>49620</td>\n",
       "      <td>12</td>\n",
       "      <td>1</td>\n",
       "      <td>married</td>\n",
       "    </tr>\n",
       "    <tr>\n",
       "      <th>3</th>\n",
       "      <td>138</td>\n",
       "      <td>81</td>\n",
       "      <td>49620</td>\n",
       "      <td>12</td>\n",
       "      <td>1</td>\n",
       "      <td>married</td>\n",
       "    </tr>\n",
       "    <tr>\n",
       "      <th>4</th>\n",
       "      <td>138</td>\n",
       "      <td>81</td>\n",
       "      <td>49620</td>\n",
       "      <td>10</td>\n",
       "      <td>1</td>\n",
       "      <td>married</td>\n",
       "    </tr>\n",
       "  </tbody>\n",
       "</table>\n",
       "</div>"
      ],
      "text/plain": [
       "  user_id  age  income  department_id  n_dependants fam_status\n",
       "0     138   81   49620             19             1    married\n",
       "1     138   81   49620             19             1    married\n",
       "2     138   81   49620             12             1    married\n",
       "3     138   81   49620             12             1    married\n",
       "4     138   81   49620             10             1    married"
      ]
     },
     "execution_count": 28,
     "metadata": {},
     "output_type": "execute_result"
    }
   ],
   "source": [
    "#check df\n",
    "df_profile.head()"
   ]
  },
  {
   "cell_type": "code",
   "execution_count": 29,
   "id": "01950c02",
   "metadata": {},
   "outputs": [],
   "source": [
    "#import departments dataset to act as data dictionary\n",
    "df_deps = pd.read_csv(os.path.join(path,'02_Data','02_Prepared_Data','departments_wrangled.csv'),index_col=False)"
   ]
  },
  {
   "cell_type": "code",
   "execution_count": 30,
   "id": "692c4314",
   "metadata": {},
   "outputs": [],
   "source": [
    "#setting the index to start at 1 and not 0\n",
    "df_deps.index = np.arange(1, len(df_deps)+1)"
   ]
  },
  {
   "cell_type": "code",
   "execution_count": 31,
   "id": "bcbb15f8",
   "metadata": {},
   "outputs": [
    {
     "data": {
      "text/html": [
       "<div>\n",
       "<style scoped>\n",
       "    .dataframe tbody tr th:only-of-type {\n",
       "        vertical-align: middle;\n",
       "    }\n",
       "\n",
       "    .dataframe tbody tr th {\n",
       "        vertical-align: top;\n",
       "    }\n",
       "\n",
       "    .dataframe thead th {\n",
       "        text-align: right;\n",
       "    }\n",
       "</style>\n",
       "<table border=\"1\" class=\"dataframe\">\n",
       "  <thead>\n",
       "    <tr style=\"text-align: right;\">\n",
       "      <th></th>\n",
       "      <th>department</th>\n",
       "    </tr>\n",
       "  </thead>\n",
       "  <tbody>\n",
       "    <tr>\n",
       "      <th>1</th>\n",
       "      <td>frozen</td>\n",
       "    </tr>\n",
       "    <tr>\n",
       "      <th>2</th>\n",
       "      <td>other</td>\n",
       "    </tr>\n",
       "    <tr>\n",
       "      <th>3</th>\n",
       "      <td>bakery</td>\n",
       "    </tr>\n",
       "    <tr>\n",
       "      <th>4</th>\n",
       "      <td>produce</td>\n",
       "    </tr>\n",
       "    <tr>\n",
       "      <th>5</th>\n",
       "      <td>alcohol</td>\n",
       "    </tr>\n",
       "  </tbody>\n",
       "</table>\n",
       "</div>"
      ],
      "text/plain": [
       "  department\n",
       "1     frozen\n",
       "2      other\n",
       "3     bakery\n",
       "4    produce\n",
       "5    alcohol"
      ]
     },
     "execution_count": 31,
     "metadata": {},
     "output_type": "execute_result"
    }
   ],
   "source": [
    "df_deps.head()"
   ]
  },
  {
   "cell_type": "code",
   "execution_count": 32,
   "id": "a7076d0a",
   "metadata": {},
   "outputs": [
    {
     "data": {
      "text/plain": [
       "{1: {'department': 'frozen'},\n",
       " 2: {'department': 'other'},\n",
       " 3: {'department': 'bakery'},\n",
       " 4: {'department': 'produce'},\n",
       " 5: {'department': 'alcohol'},\n",
       " 6: {'department': 'international'},\n",
       " 7: {'department': 'beverages'},\n",
       " 8: {'department': 'pets'},\n",
       " 9: {'department': 'dry goods pasta'},\n",
       " 10: {'department': 'bulk'},\n",
       " 11: {'department': 'personal care'},\n",
       " 12: {'department': 'meat seafood'},\n",
       " 13: {'department': 'pantry'},\n",
       " 14: {'department': 'breakfast'},\n",
       " 15: {'department': 'canned goods'},\n",
       " 16: {'department': 'dairy eggs'},\n",
       " 17: {'department': 'household'},\n",
       " 18: {'department': 'babies'},\n",
       " 19: {'department': 'snacks'},\n",
       " 20: {'department': 'deli'},\n",
       " 21: {'department': 'missing'}}"
      ]
     },
     "execution_count": 32,
     "metadata": {},
     "output_type": "execute_result"
    }
   ],
   "source": [
    "#creating data dictionary\n",
    "data_dict = df_deps.to_dict('index')\n",
    "data_dict"
   ]
  },
  {
   "cell_type": "code",
   "execution_count": 33,
   "id": "748f48bf",
   "metadata": {},
   "outputs": [
    {
     "data": {
      "text/plain": [
       "count    3.096456e+07\n",
       "mean     4.946803e+01\n",
       "std      1.848528e+01\n",
       "min      1.800000e+01\n",
       "25%      3.300000e+01\n",
       "50%      4.900000e+01\n",
       "75%      6.500000e+01\n",
       "max      8.100000e+01\n",
       "Name: age, dtype: float64"
      ]
     },
     "execution_count": 33,
     "metadata": {},
     "output_type": "execute_result"
    }
   ],
   "source": [
    "#check statistics for age\n",
    "df_profile['age'].describe()"
   ]
  },
  {
   "cell_type": "code",
   "execution_count": 34,
   "id": "f1fa7367",
   "metadata": {},
   "outputs": [
    {
     "name": "stderr",
     "output_type": "stream",
     "text": [
      "C:\\Users\\EliteMini HX90\\AppData\\Local\\Temp\\ipykernel_13000\\1508718114.py:2: FutureWarning: Setting an item of incompatible dtype is deprecated and will raise in a future error of pandas. Value 'Young Adult' has dtype incompatible with float64, please explicitly cast to a compatible dtype first.\n",
      "  ords_prods_active_only.loc[ords_prods_active_only['age'] <30, 'age_group'] = 'Young Adult'\n"
     ]
    }
   ],
   "source": [
    "#set condition for young adults under 30 years old\n",
    "ords_prods_active_only.loc[ords_prods_active_only['age'] <30, 'age_group'] = 'Young Adult'"
   ]
  },
  {
   "cell_type": "code",
   "execution_count": 35,
   "id": "fefac36e",
   "metadata": {},
   "outputs": [],
   "source": [
    "#set condition for older adults at or over 60 years old\n",
    "ords_prods_active_only.loc[ords_prods_active_only['age'] >=60, 'age_group'] = 'Older Adult'"
   ]
  },
  {
   "cell_type": "code",
   "execution_count": 36,
   "id": "b14b4a99",
   "metadata": {},
   "outputs": [],
   "source": [
    "#set condition for adults between 30 and 59 years old\n",
    "ords_prods_active_only.loc[(ords_prods_active_only['age'] >=30)&(ords_prods_active_only['age']<60), 'age_group'] = 'Adult'"
   ]
  },
  {
   "cell_type": "code",
   "execution_count": 37,
   "id": "67140bb7",
   "metadata": {},
   "outputs": [
    {
     "data": {
      "text/plain": [
       "age_group\n",
       "Adult          14572457\n",
       "Older Adult    10574504\n",
       "Young Adult     5817603\n",
       "Name: count, dtype: int64"
      ]
     },
     "execution_count": 37,
     "metadata": {},
     "output_type": "execute_result"
    }
   ],
   "source": [
    "ords_prods_active_only['age_group'].value_counts(dropna=False)"
   ]
  },
  {
   "cell_type": "code",
   "execution_count": 38,
   "id": "0dd04f0a",
   "metadata": {},
   "outputs": [
    {
     "data": {
      "text/plain": [
       "count    3.096456e+07\n",
       "mean     9.967587e+04\n",
       "std      4.314187e+04\n",
       "min      2.590300e+04\n",
       "25%      6.729200e+04\n",
       "50%      9.676500e+04\n",
       "75%      1.281020e+05\n",
       "max      5.939010e+05\n",
       "Name: income, dtype: float64"
      ]
     },
     "execution_count": 38,
     "metadata": {},
     "output_type": "execute_result"
    }
   ],
   "source": [
    "#check statistics for income\n",
    "df_profile['income'].describe()"
   ]
  },
  {
   "cell_type": "code",
   "execution_count": 39,
   "id": "c7660e06",
   "metadata": {},
   "outputs": [
    {
     "data": {
      "text/plain": [
       "96765.0"
      ]
     },
     "execution_count": 39,
     "metadata": {},
     "output_type": "execute_result"
    }
   ],
   "source": [
    "df_profile['income'].median()"
   ]
  },
  {
   "cell_type": "code",
   "execution_count": 40,
   "id": "55596539",
   "metadata": {},
   "outputs": [
    {
     "name": "stderr",
     "output_type": "stream",
     "text": [
      "C:\\Users\\EliteMini HX90\\AppData\\Local\\Temp\\ipykernel_13000\\668584459.py:2: FutureWarning: Setting an item of incompatible dtype is deprecated and will raise in a future error of pandas. Value 'High Income' has dtype incompatible with float64, please explicitly cast to a compatible dtype first.\n",
      "  ords_prods_active_only.loc[ords_prods_merge['income'] >=128102, 'income_group'] = 'High Income'\n"
     ]
    }
   ],
   "source": [
    "#set condition for high income over or equal to 128102\n",
    "ords_prods_active_only.loc[ords_prods_merge['income'] >=128102, 'income_group'] = 'High Income'"
   ]
  },
  {
   "cell_type": "code",
   "execution_count": 41,
   "id": "9d1a16f5",
   "metadata": {},
   "outputs": [],
   "source": [
    "#set condition for low income below 67292\n",
    "ords_prods_active_only.loc[ords_prods_active_only['income'] <67292, 'income_group'] = 'Low Income'"
   ]
  },
  {
   "cell_type": "code",
   "execution_count": 42,
   "id": "6c579f4d",
   "metadata": {},
   "outputs": [],
   "source": [
    "#set condition for average income between 67292 and 128102 years old\n",
    "ords_prods_active_only.loc[(ords_prods_active_only['income'] >=67292)&(ords_prods_active_only['income']<128102), 'income_group'] = 'Average Income'"
   ]
  },
  {
   "cell_type": "code",
   "execution_count": 43,
   "id": "1abfc13e",
   "metadata": {},
   "outputs": [
    {
     "data": {
      "text/plain": [
       "income_group\n",
       "Average Income    15482298\n",
       "High Income        7741261\n",
       "Low Income         7741005\n",
       "Name: count, dtype: int64"
      ]
     },
     "execution_count": 43,
     "metadata": {},
     "output_type": "execute_result"
    }
   ],
   "source": [
    "ords_prods_active_only['income_group'].value_counts(dropna=False)"
   ]
  },
  {
   "cell_type": "code",
   "execution_count": 44,
   "id": "cfd382a2",
   "metadata": {},
   "outputs": [
    {
     "data": {
      "text/plain": [
       "count    3.096456e+07\n",
       "mean     1.501819e+00\n",
       "std      1.118896e+00\n",
       "min      0.000000e+00\n",
       "25%      1.000000e+00\n",
       "50%      2.000000e+00\n",
       "75%      3.000000e+00\n",
       "max      3.000000e+00\n",
       "Name: n_dependants, dtype: float64"
      ]
     },
     "execution_count": 44,
     "metadata": {},
     "output_type": "execute_result"
    }
   ],
   "source": [
    "#check statistics for number of dependants\n",
    "df_profile['n_dependants'].describe()"
   ]
  },
  {
   "cell_type": "code",
   "execution_count": 45,
   "id": "7433192f",
   "metadata": {},
   "outputs": [
    {
     "name": "stderr",
     "output_type": "stream",
     "text": [
      "C:\\Users\\EliteMini HX90\\AppData\\Local\\Temp\\ipykernel_13000\\3606621964.py:2: FutureWarning: Setting an item of incompatible dtype is deprecated and will raise in a future error of pandas. Value 'No Dependants' has dtype incompatible with float64, please explicitly cast to a compatible dtype first.\n",
      "  ords_prods_active_only.loc[ords_prods_active_only['n_dependants'] ==0, 'dependant_group'] = 'No Dependants'\n"
     ]
    }
   ],
   "source": [
    "#set condition for no dependants\n",
    "ords_prods_active_only.loc[ords_prods_active_only['n_dependants'] ==0, 'dependant_group'] = 'No Dependants'"
   ]
  },
  {
   "cell_type": "code",
   "execution_count": 46,
   "id": "259b0c2c",
   "metadata": {},
   "outputs": [],
   "source": [
    "#set condition for dependants\n",
    "ords_prods_active_only.loc[ords_prods_active_only['n_dependants'] >=1, 'dependant_group'] = 'Dependants'"
   ]
  },
  {
   "cell_type": "code",
   "execution_count": 47,
   "id": "5d6134b8",
   "metadata": {
    "scrolled": true
   },
   "outputs": [
    {
     "data": {
      "text/plain": [
       "dependant_group\n",
       "Dependants       23224883\n",
       "No Dependants     7739681\n",
       "Name: count, dtype: int64"
      ]
     },
     "execution_count": 47,
     "metadata": {},
     "output_type": "execute_result"
    }
   ],
   "source": [
    "ords_prods_active_only['dependant_group'].value_counts(dropna=False)"
   ]
  },
  {
   "cell_type": "code",
   "execution_count": 48,
   "id": "64d5943a",
   "metadata": {},
   "outputs": [
    {
     "name": "stderr",
     "output_type": "stream",
     "text": [
      "C:\\Users\\EliteMini HX90\\AppData\\Local\\Temp\\ipykernel_13000\\647335252.py:2: FutureWarning: Setting an item of incompatible dtype is deprecated and will raise in a future error of pandas. Value 'With Children' has dtype incompatible with float64, please explicitly cast to a compatible dtype first.\n",
      "  ords_prods_active_only.loc[ords_prods_active_only['department_id'] ==18, 'children_flag'] = 'With Children'\n"
     ]
    }
   ],
   "source": [
    "#set condition for likely to have children (based on previous purchases from the babies department)\n",
    "ords_prods_active_only.loc[ords_prods_active_only['department_id'] ==18, 'children_flag'] = 'With Children'"
   ]
  },
  {
   "cell_type": "code",
   "execution_count": 49,
   "id": "48ff9d9e",
   "metadata": {},
   "outputs": [
    {
     "data": {
      "text/plain": [
       "children_flag\n",
       "NaN              30554172\n",
       "With Children      410392\n",
       "Name: count, dtype: int64"
      ]
     },
     "execution_count": 49,
     "metadata": {},
     "output_type": "execute_result"
    }
   ],
   "source": [
    "ords_prods_active_only['children_flag'].value_counts(dropna=False)"
   ]
  },
  {
   "cell_type": "code",
   "execution_count": 50,
   "id": "a4bc1a2d",
   "metadata": {},
   "outputs": [
    {
     "data": {
      "text/plain": [
       "Index(['product_id', 'product_name', 'aisle_id', 'department_id', 'prices',\n",
       "       'order_id', 'user_id', 'order_number', 'orders_day_of_week',\n",
       "       'order_hour_of_day', 'days_since_prior_order', 'add_to_cart_order',\n",
       "       'reordered', 'price_label', 'busiest_day', 'busiest_days',\n",
       "       'busiest_period_of_day', 'max_order', 'loyalty_flag', 'avg_price',\n",
       "       'spending_flag', 'median_days_since_order', 'frequency_flag', 'gender',\n",
       "       'state', 'age', 'date_joined', 'n_dependants', 'fam_status', 'income',\n",
       "       'region', 'age_group', 'income_group', 'dependant_group',\n",
       "       'children_flag'],\n",
       "      dtype='object')"
      ]
     },
     "execution_count": 50,
     "metadata": {},
     "output_type": "execute_result"
    }
   ],
   "source": [
    "ords_prods_active_only.columns"
   ]
  },
  {
   "cell_type": "code",
   "execution_count": 51,
   "id": "defc9412",
   "metadata": {},
   "outputs": [],
   "source": [
    "#create subset with only the relevant columns to create different profiles\n",
    "df_1 = ords_prods_active_only[['user_id','gender','fam_status','age_group','income_group','dependant_group','children_flag']]"
   ]
  },
  {
   "cell_type": "code",
   "execution_count": 52,
   "id": "c089456b",
   "metadata": {},
   "outputs": [
    {
     "data": {
      "text/html": [
       "<div>\n",
       "<style scoped>\n",
       "    .dataframe tbody tr th:only-of-type {\n",
       "        vertical-align: middle;\n",
       "    }\n",
       "\n",
       "    .dataframe tbody tr th {\n",
       "        vertical-align: top;\n",
       "    }\n",
       "\n",
       "    .dataframe thead th {\n",
       "        text-align: right;\n",
       "    }\n",
       "</style>\n",
       "<table border=\"1\" class=\"dataframe\">\n",
       "  <thead>\n",
       "    <tr style=\"text-align: right;\">\n",
       "      <th></th>\n",
       "      <th>user_id</th>\n",
       "      <th>gender</th>\n",
       "      <th>fam_status</th>\n",
       "      <th>age_group</th>\n",
       "      <th>income_group</th>\n",
       "      <th>dependant_group</th>\n",
       "      <th>children_flag</th>\n",
       "    </tr>\n",
       "  </thead>\n",
       "  <tbody>\n",
       "    <tr>\n",
       "      <th>0</th>\n",
       "      <td>138</td>\n",
       "      <td>Male</td>\n",
       "      <td>married</td>\n",
       "      <td>Older Adult</td>\n",
       "      <td>Low Income</td>\n",
       "      <td>Dependants</td>\n",
       "      <td>NaN</td>\n",
       "    </tr>\n",
       "    <tr>\n",
       "      <th>1</th>\n",
       "      <td>138</td>\n",
       "      <td>Male</td>\n",
       "      <td>married</td>\n",
       "      <td>Older Adult</td>\n",
       "      <td>Low Income</td>\n",
       "      <td>Dependants</td>\n",
       "      <td>NaN</td>\n",
       "    </tr>\n",
       "    <tr>\n",
       "      <th>2</th>\n",
       "      <td>138</td>\n",
       "      <td>Male</td>\n",
       "      <td>married</td>\n",
       "      <td>Older Adult</td>\n",
       "      <td>Low Income</td>\n",
       "      <td>Dependants</td>\n",
       "      <td>NaN</td>\n",
       "    </tr>\n",
       "    <tr>\n",
       "      <th>3</th>\n",
       "      <td>138</td>\n",
       "      <td>Male</td>\n",
       "      <td>married</td>\n",
       "      <td>Older Adult</td>\n",
       "      <td>Low Income</td>\n",
       "      <td>Dependants</td>\n",
       "      <td>NaN</td>\n",
       "    </tr>\n",
       "    <tr>\n",
       "      <th>4</th>\n",
       "      <td>138</td>\n",
       "      <td>Male</td>\n",
       "      <td>married</td>\n",
       "      <td>Older Adult</td>\n",
       "      <td>Low Income</td>\n",
       "      <td>Dependants</td>\n",
       "      <td>NaN</td>\n",
       "    </tr>\n",
       "  </tbody>\n",
       "</table>\n",
       "</div>"
      ],
      "text/plain": [
       "  user_id gender fam_status    age_group income_group dependant_group  \\\n",
       "0     138   Male    married  Older Adult   Low Income      Dependants   \n",
       "1     138   Male    married  Older Adult   Low Income      Dependants   \n",
       "2     138   Male    married  Older Adult   Low Income      Dependants   \n",
       "3     138   Male    married  Older Adult   Low Income      Dependants   \n",
       "4     138   Male    married  Older Adult   Low Income      Dependants   \n",
       "\n",
       "  children_flag  \n",
       "0           NaN  \n",
       "1           NaN  \n",
       "2           NaN  \n",
       "3           NaN  \n",
       "4           NaN  "
      ]
     },
     "execution_count": 52,
     "metadata": {},
     "output_type": "execute_result"
    }
   ],
   "source": [
    "df_1.head()"
   ]
  },
  {
   "cell_type": "code",
   "execution_count": 53,
   "id": "83790795",
   "metadata": {},
   "outputs": [
    {
     "name": "stderr",
     "output_type": "stream",
     "text": [
      "C:\\Users\\EliteMini HX90\\AppData\\Local\\Temp\\ipykernel_13000\\2090221254.py:2: SettingWithCopyWarning: \n",
      "A value is trying to be set on a copy of a slice from a DataFrame.\n",
      "Try using .loc[row_indexer,col_indexer] = value instead\n",
      "\n",
      "See the caveats in the documentation: https://pandas.pydata.org/pandas-docs/stable/user_guide/indexing.html#returning-a-view-versus-a-copy\n",
      "  df_1['children_flag'] = np.where(df_1.children_flag.eq('With Children').groupby(df_1.user_id).transform('any'), 'With Children', df_1['children_flag'])\n"
     ]
    }
   ],
   "source": [
    "#apply children flag to the same user_id regardless of items from the babies department \n",
    "df_1['children_flag'] = np.where(df_1.children_flag.eq('With Children').groupby(df_1.user_id).transform('any'), 'With Children', df_1['children_flag'])"
   ]
  },
  {
   "cell_type": "code",
   "execution_count": 54,
   "id": "ffed0ac4",
   "metadata": {},
   "outputs": [
    {
     "data": {
      "text/plain": [
       "children_flag\n",
       "NaN              21154311\n",
       "With Children     9810253\n",
       "Name: count, dtype: int64"
      ]
     },
     "execution_count": 54,
     "metadata": {},
     "output_type": "execute_result"
    }
   ],
   "source": [
    "df_1['children_flag'].value_counts(dropna=False)"
   ]
  },
  {
   "cell_type": "code",
   "execution_count": 55,
   "id": "906ffe35",
   "metadata": {},
   "outputs": [
    {
     "data": {
      "text/plain": [
       "(30964564, 7)"
      ]
     },
     "execution_count": 55,
     "metadata": {},
     "output_type": "execute_result"
    }
   ],
   "source": [
    "df_1.shape"
   ]
  },
  {
   "cell_type": "code",
   "execution_count": 56,
   "id": "2a613648",
   "metadata": {},
   "outputs": [
    {
     "data": {
      "text/html": [
       "<div>\n",
       "<style scoped>\n",
       "    .dataframe tbody tr th:only-of-type {\n",
       "        vertical-align: middle;\n",
       "    }\n",
       "\n",
       "    .dataframe tbody tr th {\n",
       "        vertical-align: top;\n",
       "    }\n",
       "\n",
       "    .dataframe thead th {\n",
       "        text-align: right;\n",
       "    }\n",
       "</style>\n",
       "<table border=\"1\" class=\"dataframe\">\n",
       "  <thead>\n",
       "    <tr style=\"text-align: right;\">\n",
       "      <th></th>\n",
       "      <th>user_id</th>\n",
       "      <th>gender</th>\n",
       "      <th>fam_status</th>\n",
       "      <th>age_group</th>\n",
       "      <th>income_group</th>\n",
       "      <th>dependant_group</th>\n",
       "      <th>children_flag</th>\n",
       "    </tr>\n",
       "  </thead>\n",
       "  <tbody>\n",
       "    <tr>\n",
       "      <th>0</th>\n",
       "      <td>138</td>\n",
       "      <td>Male</td>\n",
       "      <td>married</td>\n",
       "      <td>Older Adult</td>\n",
       "      <td>Low Income</td>\n",
       "      <td>Dependants</td>\n",
       "      <td>NaN</td>\n",
       "    </tr>\n",
       "    <tr>\n",
       "      <th>1</th>\n",
       "      <td>138</td>\n",
       "      <td>Male</td>\n",
       "      <td>married</td>\n",
       "      <td>Older Adult</td>\n",
       "      <td>Low Income</td>\n",
       "      <td>Dependants</td>\n",
       "      <td>NaN</td>\n",
       "    </tr>\n",
       "    <tr>\n",
       "      <th>2</th>\n",
       "      <td>138</td>\n",
       "      <td>Male</td>\n",
       "      <td>married</td>\n",
       "      <td>Older Adult</td>\n",
       "      <td>Low Income</td>\n",
       "      <td>Dependants</td>\n",
       "      <td>NaN</td>\n",
       "    </tr>\n",
       "    <tr>\n",
       "      <th>3</th>\n",
       "      <td>138</td>\n",
       "      <td>Male</td>\n",
       "      <td>married</td>\n",
       "      <td>Older Adult</td>\n",
       "      <td>Low Income</td>\n",
       "      <td>Dependants</td>\n",
       "      <td>NaN</td>\n",
       "    </tr>\n",
       "    <tr>\n",
       "      <th>4</th>\n",
       "      <td>138</td>\n",
       "      <td>Male</td>\n",
       "      <td>married</td>\n",
       "      <td>Older Adult</td>\n",
       "      <td>Low Income</td>\n",
       "      <td>Dependants</td>\n",
       "      <td>NaN</td>\n",
       "    </tr>\n",
       "  </tbody>\n",
       "</table>\n",
       "</div>"
      ],
      "text/plain": [
       "  user_id gender fam_status    age_group income_group dependant_group  \\\n",
       "0     138   Male    married  Older Adult   Low Income      Dependants   \n",
       "1     138   Male    married  Older Adult   Low Income      Dependants   \n",
       "2     138   Male    married  Older Adult   Low Income      Dependants   \n",
       "3     138   Male    married  Older Adult   Low Income      Dependants   \n",
       "4     138   Male    married  Older Adult   Low Income      Dependants   \n",
       "\n",
       "  children_flag  \n",
       "0           NaN  \n",
       "1           NaN  \n",
       "2           NaN  \n",
       "3           NaN  \n",
       "4           NaN  "
      ]
     },
     "execution_count": 56,
     "metadata": {},
     "output_type": "execute_result"
    }
   ],
   "source": [
    "df_1.head()"
   ]
  },
  {
   "cell_type": "code",
   "execution_count": 57,
   "id": "0b0fdd95",
   "metadata": {},
   "outputs": [],
   "source": [
    "# Create subset of df with only unique values for user_id column\n",
    "df_2 = df_1.drop_duplicates(subset=['user_id'])"
   ]
  },
  {
   "cell_type": "code",
   "execution_count": 58,
   "id": "4de1ca09",
   "metadata": {},
   "outputs": [
    {
     "data": {
      "text/plain": [
       "(162631, 7)"
      ]
     },
     "execution_count": 58,
     "metadata": {},
     "output_type": "execute_result"
    }
   ],
   "source": [
    "df_2.shape"
   ]
  },
  {
   "cell_type": "code",
   "execution_count": 59,
   "id": "16f19ccf",
   "metadata": {},
   "outputs": [
    {
     "data": {
      "text/html": [
       "<div>\n",
       "<style scoped>\n",
       "    .dataframe tbody tr th:only-of-type {\n",
       "        vertical-align: middle;\n",
       "    }\n",
       "\n",
       "    .dataframe tbody tr th {\n",
       "        vertical-align: top;\n",
       "    }\n",
       "\n",
       "    .dataframe thead th {\n",
       "        text-align: right;\n",
       "    }\n",
       "</style>\n",
       "<table border=\"1\" class=\"dataframe\">\n",
       "  <thead>\n",
       "    <tr style=\"text-align: right;\">\n",
       "      <th></th>\n",
       "      <th>user_id</th>\n",
       "      <th>gender</th>\n",
       "      <th>fam_status</th>\n",
       "      <th>age_group</th>\n",
       "      <th>income_group</th>\n",
       "      <th>dependant_group</th>\n",
       "      <th>children_flag</th>\n",
       "    </tr>\n",
       "  </thead>\n",
       "  <tbody>\n",
       "    <tr>\n",
       "      <th>0</th>\n",
       "      <td>138</td>\n",
       "      <td>Male</td>\n",
       "      <td>married</td>\n",
       "      <td>Older Adult</td>\n",
       "      <td>Low Income</td>\n",
       "      <td>Dependants</td>\n",
       "      <td>NaN</td>\n",
       "    </tr>\n",
       "    <tr>\n",
       "      <th>148</th>\n",
       "      <td>709</td>\n",
       "      <td>Female</td>\n",
       "      <td>married</td>\n",
       "      <td>Older Adult</td>\n",
       "      <td>High Income</td>\n",
       "      <td>Dependants</td>\n",
       "      <td>NaN</td>\n",
       "    </tr>\n",
       "    <tr>\n",
       "      <th>398</th>\n",
       "      <td>777</td>\n",
       "      <td>Female</td>\n",
       "      <td>married</td>\n",
       "      <td>Adult</td>\n",
       "      <td>Low Income</td>\n",
       "      <td>Dependants</td>\n",
       "      <td>NaN</td>\n",
       "    </tr>\n",
       "    <tr>\n",
       "      <th>511</th>\n",
       "      <td>825</td>\n",
       "      <td>Male</td>\n",
       "      <td>living with parents and siblings</td>\n",
       "      <td>Young Adult</td>\n",
       "      <td>Low Income</td>\n",
       "      <td>Dependants</td>\n",
       "      <td>NaN</td>\n",
       "    </tr>\n",
       "    <tr>\n",
       "      <th>544</th>\n",
       "      <td>910</td>\n",
       "      <td>Female</td>\n",
       "      <td>divorced/widowed</td>\n",
       "      <td>Older Adult</td>\n",
       "      <td>Low Income</td>\n",
       "      <td>No Dependants</td>\n",
       "      <td>NaN</td>\n",
       "    </tr>\n",
       "  </tbody>\n",
       "</table>\n",
       "</div>"
      ],
      "text/plain": [
       "    user_id  gender                        fam_status    age_group  \\\n",
       "0       138    Male                           married  Older Adult   \n",
       "148     709  Female                           married  Older Adult   \n",
       "398     777  Female                           married        Adult   \n",
       "511     825    Male  living with parents and siblings  Young Adult   \n",
       "544     910  Female                  divorced/widowed  Older Adult   \n",
       "\n",
       "    income_group dependant_group children_flag  \n",
       "0     Low Income      Dependants           NaN  \n",
       "148  High Income      Dependants           NaN  \n",
       "398   Low Income      Dependants           NaN  \n",
       "511   Low Income      Dependants           NaN  \n",
       "544   Low Income   No Dependants           NaN  "
      ]
     },
     "execution_count": 59,
     "metadata": {},
     "output_type": "execute_result"
    }
   ],
   "source": [
    "df_2.head()"
   ]
  },
  {
   "cell_type": "code",
   "execution_count": 60,
   "id": "b9dc2f3f",
   "metadata": {},
   "outputs": [
    {
     "data": {
      "text/html": [
       "<div>\n",
       "<style scoped>\n",
       "    .dataframe tbody tr th:only-of-type {\n",
       "        vertical-align: middle;\n",
       "    }\n",
       "\n",
       "    .dataframe tbody tr th {\n",
       "        vertical-align: top;\n",
       "    }\n",
       "\n",
       "    .dataframe thead th {\n",
       "        text-align: right;\n",
       "    }\n",
       "</style>\n",
       "<table border=\"1\" class=\"dataframe\">\n",
       "  <thead>\n",
       "    <tr style=\"text-align: right;\">\n",
       "      <th></th>\n",
       "      <th>user_id</th>\n",
       "      <th>gender</th>\n",
       "      <th>fam_status</th>\n",
       "      <th>age_group</th>\n",
       "      <th>income_group</th>\n",
       "      <th>dependant_group</th>\n",
       "      <th>children_flag</th>\n",
       "    </tr>\n",
       "  </thead>\n",
       "  <tbody>\n",
       "    <tr>\n",
       "      <th>count</th>\n",
       "      <td>162631</td>\n",
       "      <td>162631</td>\n",
       "      <td>162631</td>\n",
       "      <td>162631</td>\n",
       "      <td>162631</td>\n",
       "      <td>162631</td>\n",
       "      <td>30230</td>\n",
       "    </tr>\n",
       "    <tr>\n",
       "      <th>unique</th>\n",
       "      <td>162631</td>\n",
       "      <td>2</td>\n",
       "      <td>4</td>\n",
       "      <td>3</td>\n",
       "      <td>3</td>\n",
       "      <td>2</td>\n",
       "      <td>1</td>\n",
       "    </tr>\n",
       "    <tr>\n",
       "      <th>top</th>\n",
       "      <td>138</td>\n",
       "      <td>Male</td>\n",
       "      <td>married</td>\n",
       "      <td>Adult</td>\n",
       "      <td>Average Income</td>\n",
       "      <td>Dependants</td>\n",
       "      <td>With Children</td>\n",
       "    </tr>\n",
       "    <tr>\n",
       "      <th>freq</th>\n",
       "      <td>1</td>\n",
       "      <td>81998</td>\n",
       "      <td>114296</td>\n",
       "      <td>76482</td>\n",
       "      <td>76250</td>\n",
       "      <td>121904</td>\n",
       "      <td>30230</td>\n",
       "    </tr>\n",
       "  </tbody>\n",
       "</table>\n",
       "</div>"
      ],
      "text/plain": [
       "       user_id  gender fam_status age_group    income_group dependant_group  \\\n",
       "count   162631  162631     162631    162631          162631          162631   \n",
       "unique  162631       2          4         3               3               2   \n",
       "top        138    Male    married     Adult  Average Income      Dependants   \n",
       "freq         1   81998     114296     76482           76250          121904   \n",
       "\n",
       "        children_flag  \n",
       "count           30230  \n",
       "unique              1  \n",
       "top     With Children  \n",
       "freq            30230  "
      ]
     },
     "execution_count": 60,
     "metadata": {},
     "output_type": "execute_result"
    }
   ],
   "source": [
    "df_2.describe()"
   ]
  },
  {
   "cell_type": "code",
   "execution_count": 61,
   "id": "30a262e8",
   "metadata": {},
   "outputs": [],
   "source": [
    "#drop gender column to facilitate profiling combinations\n",
    "df_2 = df_2.drop(columns=['gender'])"
   ]
  },
  {
   "cell_type": "code",
   "execution_count": 62,
   "id": "934c87dd",
   "metadata": {
    "scrolled": true
   },
   "outputs": [
    {
     "data": {
      "text/html": [
       "<div>\n",
       "<style scoped>\n",
       "    .dataframe tbody tr th:only-of-type {\n",
       "        vertical-align: middle;\n",
       "    }\n",
       "\n",
       "    .dataframe tbody tr th {\n",
       "        vertical-align: top;\n",
       "    }\n",
       "\n",
       "    .dataframe thead th {\n",
       "        text-align: right;\n",
       "    }\n",
       "</style>\n",
       "<table border=\"1\" class=\"dataframe\">\n",
       "  <thead>\n",
       "    <tr style=\"text-align: right;\">\n",
       "      <th></th>\n",
       "      <th>user_id</th>\n",
       "      <th>fam_status</th>\n",
       "      <th>age_group</th>\n",
       "      <th>income_group</th>\n",
       "      <th>dependant_group</th>\n",
       "      <th>children_flag</th>\n",
       "    </tr>\n",
       "  </thead>\n",
       "  <tbody>\n",
       "    <tr>\n",
       "      <th>0</th>\n",
       "      <td>138</td>\n",
       "      <td>married</td>\n",
       "      <td>Older Adult</td>\n",
       "      <td>Low Income</td>\n",
       "      <td>Dependants</td>\n",
       "      <td>NaN</td>\n",
       "    </tr>\n",
       "    <tr>\n",
       "      <th>148</th>\n",
       "      <td>709</td>\n",
       "      <td>married</td>\n",
       "      <td>Older Adult</td>\n",
       "      <td>High Income</td>\n",
       "      <td>Dependants</td>\n",
       "      <td>NaN</td>\n",
       "    </tr>\n",
       "    <tr>\n",
       "      <th>398</th>\n",
       "      <td>777</td>\n",
       "      <td>married</td>\n",
       "      <td>Adult</td>\n",
       "      <td>Low Income</td>\n",
       "      <td>Dependants</td>\n",
       "      <td>NaN</td>\n",
       "    </tr>\n",
       "    <tr>\n",
       "      <th>511</th>\n",
       "      <td>825</td>\n",
       "      <td>living with parents and siblings</td>\n",
       "      <td>Young Adult</td>\n",
       "      <td>Low Income</td>\n",
       "      <td>Dependants</td>\n",
       "      <td>NaN</td>\n",
       "    </tr>\n",
       "    <tr>\n",
       "      <th>544</th>\n",
       "      <td>910</td>\n",
       "      <td>divorced/widowed</td>\n",
       "      <td>Older Adult</td>\n",
       "      <td>Low Income</td>\n",
       "      <td>No Dependants</td>\n",
       "      <td>NaN</td>\n",
       "    </tr>\n",
       "  </tbody>\n",
       "</table>\n",
       "</div>"
      ],
      "text/plain": [
       "    user_id                        fam_status    age_group income_group  \\\n",
       "0       138                           married  Older Adult   Low Income   \n",
       "148     709                           married  Older Adult  High Income   \n",
       "398     777                           married        Adult   Low Income   \n",
       "511     825  living with parents and siblings  Young Adult   Low Income   \n",
       "544     910                  divorced/widowed  Older Adult   Low Income   \n",
       "\n",
       "    dependant_group children_flag  \n",
       "0        Dependants           NaN  \n",
       "148      Dependants           NaN  \n",
       "398      Dependants           NaN  \n",
       "511      Dependants           NaN  \n",
       "544   No Dependants           NaN  "
      ]
     },
     "execution_count": 62,
     "metadata": {},
     "output_type": "execute_result"
    }
   ],
   "source": [
    "df_2.head()"
   ]
  },
  {
   "cell_type": "code",
   "execution_count": 63,
   "id": "3e8a0eb9",
   "metadata": {},
   "outputs": [
    {
     "data": {
      "text/plain": [
       "fam_status\n",
       "married                             114296\n",
       "single                               26896\n",
       "divorced/widowed                     13831\n",
       "living with parents and siblings      7608\n",
       "Name: count, dtype: int64"
      ]
     },
     "execution_count": 63,
     "metadata": {},
     "output_type": "execute_result"
    }
   ],
   "source": [
    "df_2['fam_status'].value_counts(dropna=False)"
   ]
  },
  {
   "cell_type": "code",
   "execution_count": 64,
   "id": "01916b86",
   "metadata": {},
   "outputs": [
    {
     "data": {
      "text/plain": [
       "age_group\n",
       "Adult          76482\n",
       "Older Adult    55773\n",
       "Young Adult    30376\n",
       "Name: count, dtype: int64"
      ]
     },
     "execution_count": 64,
     "metadata": {},
     "output_type": "execute_result"
    }
   ],
   "source": [
    "df_2['age_group'].value_counts(dropna=False)"
   ]
  },
  {
   "cell_type": "code",
   "execution_count": 65,
   "id": "89b50d02",
   "metadata": {},
   "outputs": [
    {
     "data": {
      "text/plain": [
       "income_group\n",
       "Average Income    76250\n",
       "Low Income        48270\n",
       "High Income       38111\n",
       "Name: count, dtype: int64"
      ]
     },
     "execution_count": 65,
     "metadata": {},
     "output_type": "execute_result"
    }
   ],
   "source": [
    "df_2['income_group'].value_counts(dropna=False)"
   ]
  },
  {
   "cell_type": "code",
   "execution_count": 66,
   "id": "34fa1c11",
   "metadata": {},
   "outputs": [
    {
     "data": {
      "text/plain": [
       "dependant_group\n",
       "Dependants       121904\n",
       "No Dependants     40727\n",
       "Name: count, dtype: int64"
      ]
     },
     "execution_count": 66,
     "metadata": {},
     "output_type": "execute_result"
    }
   ],
   "source": [
    "df_2['dependant_group'].value_counts(dropna=False)"
   ]
  },
  {
   "cell_type": "code",
   "execution_count": 67,
   "id": "e2b1fd07",
   "metadata": {},
   "outputs": [
    {
     "data": {
      "text/plain": [
       "children_flag\n",
       "NaN              132401\n",
       "With Children     30230\n",
       "Name: count, dtype: int64"
      ]
     },
     "execution_count": 67,
     "metadata": {},
     "output_type": "execute_result"
    }
   ],
   "source": [
    "df_2['children_flag'].value_counts(dropna=False)"
   ]
  },
  {
   "cell_type": "code",
   "execution_count": 68,
   "id": "577c6ad8",
   "metadata": {
    "scrolled": true
   },
   "outputs": [
    {
     "name": "stderr",
     "output_type": "stream",
     "text": [
      "C:\\Users\\EliteMini HX90\\AppData\\Local\\Temp\\ipykernel_13000\\3669295577.py:3: FutureWarning: Setting an item of incompatible dtype is deprecated and will raise in a future error of pandas. Value 'Adult with Average Income' has dtype incompatible with float64, please explicitly cast to a compatible dtype first.\n",
      "  df_2.loc[(df_2['age_group']=='Adult') & (df_2['income_group']=='Average Income'), 'customer_profile'] = 'Adult with Average Income'\n"
     ]
    }
   ],
   "source": [
    "#create customer_profile conditions\n",
    "\n",
    "df_2.loc[(df_2['age_group']=='Adult') & (df_2['income_group']=='Average Income'), 'customer_profile'] = 'Adult with Average Income'\n",
    "df_2.loc[(df_2['age_group']=='Adult') & (df_2['income_group']=='Average Income') & (df_2['dependant_group']=='Dependants')& (df_2['children_flag']=='With Children'), 'customer_profile'] = 'Adult with Average Income and Children'\n",
    "df_2.loc[(df_2['age_group']=='Older Adult') & (df_2['income_group']=='Average Income'), 'customer_profile'] = 'Older Adult with Average Income'\n",
    "df_2.loc[(df_2['age_group']=='Young Adult') & (df_2['income_group']=='Average Income'), 'customer_profile'] = 'Young Adult with Average Income'\n",
    "df_2.loc[(df_2['age_group']=='Young Adult') & (df_2['income_group']=='Average Income') & (df_2['dependant_group']=='Dependants') & (df_2['children_flag']=='With Children'), 'customer_profile'] = 'Young Adult with Average Income and Children'\n",
    "\n",
    "df_2.loc[(df_2['age_group']=='Adult') & (df_2['income_group']=='Low Income'), 'customer_profile'] = 'Adult with Low Income'\n",
    "df_2.loc[(df_2['age_group']=='Adult') & (df_2['income_group']=='Low Income') & (df_2['dependant_group']=='Dependants') & (df_2['children_flag']=='With Children'), 'customer_profile'] = 'Adult with Low Income and Children'\n",
    "df_2.loc[(df_2['age_group']=='Older Adult') & (df_2['income_group']=='Low Income'), 'customer_profile'] = 'Older Adult with Low Income'\n",
    "df_2.loc[(df_2['age_group']=='Young Adult') & (df_2['income_group']=='Low Income'), 'customer_profile'] = 'Young Adult with Low Income'\n",
    "df_2.loc[(df_2['age_group']=='Young Adult') & (df_2['income_group']=='Low Income') & (df_2['dependant_group']=='Dependants') & (df_2['children_flag']=='With Children'), 'customer_profile'] = 'Young Adult with Low Income and Children'\n",
    "\n",
    "df_2.loc[(df_2['age_group']=='Adult') & (df_2['income_group']=='High Income'),  'customer_profile'] = 'Adult with High Income'\n",
    "df_2.loc[(df_2['age_group']=='Adult') & (df_2['income_group']=='High Income') & (df_2['children_flag']=='With Children'), 'customer_profile'] = 'Adult with High Income and Children'\n",
    "df_2.loc[(df_2['age_group']=='Older Adult') & (df_2['income_group']=='High Income'), 'customer_profile'] = 'Older Adult with High Income'\n",
    "df_2.loc[(df_2['age_group']=='Young Adult') & (df_2['income_group']=='High Income'), 'customer_profile'] = 'Young Adult with High Income'\n",
    "df_2.loc[(df_2['age_group']=='Young Adult') & (df_2['income_group']=='High Income') & (df_2['dependant_group']=='Dependants') & (df_2['children_flag']=='With Children'), 'customer_profile'] = 'Young Adult with High Income and Children'\n"
   ]
  },
  {
   "cell_type": "markdown",
   "id": "1c805a53",
   "metadata": {},
   "source": [
    "The 'children flag' is used to create a profile in combination with the 'dependant group' to more accurately represent customers with children in their household, rather than potentially flagging customers buying items from the 'babies' department as gifts, for example."
   ]
  },
  {
   "cell_type": "code",
   "execution_count": 69,
   "id": "78ceab24",
   "metadata": {},
   "outputs": [
    {
     "data": {
      "text/plain": [
       "customer_profile\n",
       "Adult with Average Income                       30164\n",
       "Older Adult with Average Income                 25507\n",
       "Adult with Low Income                           20562\n",
       "Older Adult with High Income                    20068\n",
       "Adult with High Income                          14197\n",
       "Young Adult with Low Income                     13255\n",
       "Young Adult with Average Income                 12734\n",
       "Older Adult with Low Income                     10198\n",
       "Adult with Average Income and Children           5561\n",
       "Adult with High Income and Children              3604\n",
       "Adult with Low Income and Children               2394\n",
       "Young Adult with Average Income and Children     2284\n",
       "Young Adult with Low Income and Children         1861\n",
       "Young Adult with High Income                      204\n",
       "Young Adult with High Income and Children          38\n",
       "Name: count, dtype: int64"
      ]
     },
     "execution_count": 69,
     "metadata": {},
     "output_type": "execute_result"
    }
   ],
   "source": [
    "df_2['customer_profile'].value_counts(dropna=False)"
   ]
  },
  {
   "cell_type": "code",
   "execution_count": 70,
   "id": "1b9ef3b2",
   "metadata": {},
   "outputs": [
    {
     "data": {
      "text/html": [
       "<div>\n",
       "<style scoped>\n",
       "    .dataframe tbody tr th:only-of-type {\n",
       "        vertical-align: middle;\n",
       "    }\n",
       "\n",
       "    .dataframe tbody tr th {\n",
       "        vertical-align: top;\n",
       "    }\n",
       "\n",
       "    .dataframe thead th {\n",
       "        text-align: right;\n",
       "    }\n",
       "</style>\n",
       "<table border=\"1\" class=\"dataframe\">\n",
       "  <thead>\n",
       "    <tr style=\"text-align: right;\">\n",
       "      <th></th>\n",
       "      <th>user_id</th>\n",
       "      <th>fam_status</th>\n",
       "      <th>age_group</th>\n",
       "      <th>income_group</th>\n",
       "      <th>dependant_group</th>\n",
       "      <th>children_flag</th>\n",
       "      <th>customer_profile</th>\n",
       "    </tr>\n",
       "  </thead>\n",
       "  <tbody>\n",
       "    <tr>\n",
       "      <th>0</th>\n",
       "      <td>138</td>\n",
       "      <td>married</td>\n",
       "      <td>Older Adult</td>\n",
       "      <td>Low Income</td>\n",
       "      <td>Dependants</td>\n",
       "      <td>NaN</td>\n",
       "      <td>Older Adult with Low Income</td>\n",
       "    </tr>\n",
       "    <tr>\n",
       "      <th>148</th>\n",
       "      <td>709</td>\n",
       "      <td>married</td>\n",
       "      <td>Older Adult</td>\n",
       "      <td>High Income</td>\n",
       "      <td>Dependants</td>\n",
       "      <td>NaN</td>\n",
       "      <td>Older Adult with High Income</td>\n",
       "    </tr>\n",
       "    <tr>\n",
       "      <th>398</th>\n",
       "      <td>777</td>\n",
       "      <td>married</td>\n",
       "      <td>Adult</td>\n",
       "      <td>Low Income</td>\n",
       "      <td>Dependants</td>\n",
       "      <td>NaN</td>\n",
       "      <td>Adult with Low Income</td>\n",
       "    </tr>\n",
       "    <tr>\n",
       "      <th>511</th>\n",
       "      <td>825</td>\n",
       "      <td>living with parents and siblings</td>\n",
       "      <td>Young Adult</td>\n",
       "      <td>Low Income</td>\n",
       "      <td>Dependants</td>\n",
       "      <td>NaN</td>\n",
       "      <td>Young Adult with Low Income</td>\n",
       "    </tr>\n",
       "    <tr>\n",
       "      <th>544</th>\n",
       "      <td>910</td>\n",
       "      <td>divorced/widowed</td>\n",
       "      <td>Older Adult</td>\n",
       "      <td>Low Income</td>\n",
       "      <td>No Dependants</td>\n",
       "      <td>NaN</td>\n",
       "      <td>Older Adult with Low Income</td>\n",
       "    </tr>\n",
       "  </tbody>\n",
       "</table>\n",
       "</div>"
      ],
      "text/plain": [
       "    user_id                        fam_status    age_group income_group  \\\n",
       "0       138                           married  Older Adult   Low Income   \n",
       "148     709                           married  Older Adult  High Income   \n",
       "398     777                           married        Adult   Low Income   \n",
       "511     825  living with parents and siblings  Young Adult   Low Income   \n",
       "544     910                  divorced/widowed  Older Adult   Low Income   \n",
       "\n",
       "    dependant_group children_flag              customer_profile  \n",
       "0        Dependants           NaN   Older Adult with Low Income  \n",
       "148      Dependants           NaN  Older Adult with High Income  \n",
       "398      Dependants           NaN         Adult with Low Income  \n",
       "511      Dependants           NaN   Young Adult with Low Income  \n",
       "544   No Dependants           NaN   Older Adult with Low Income  "
      ]
     },
     "execution_count": 70,
     "metadata": {},
     "output_type": "execute_result"
    }
   ],
   "source": [
    "df_2.head()"
   ]
  },
  {
   "cell_type": "code",
   "execution_count": 71,
   "id": "86938a9a",
   "metadata": {},
   "outputs": [
    {
     "data": {
      "text/plain": [
       "(162631, 7)"
      ]
     },
     "execution_count": 71,
     "metadata": {},
     "output_type": "execute_result"
    }
   ],
   "source": [
    "df_2.shape"
   ]
  },
  {
   "cell_type": "code",
   "execution_count": 72,
   "id": "5c07d2a2",
   "metadata": {},
   "outputs": [],
   "source": [
    "#merge dfs back together\n",
    "ords_prods_profile = ords_prods_active_only.merge(df_2,on = ['user_id','fam_status','age_group','income_group','dependant_group'])"
   ]
  },
  {
   "cell_type": "code",
   "execution_count": 73,
   "id": "7be451a2",
   "metadata": {},
   "outputs": [
    {
     "data": {
      "text/plain": [
       "(30964564, 37)"
      ]
     },
     "execution_count": 73,
     "metadata": {},
     "output_type": "execute_result"
    }
   ],
   "source": [
    "ords_prods_profile.shape"
   ]
  },
  {
   "cell_type": "code",
   "execution_count": 74,
   "id": "df3676fa",
   "metadata": {},
   "outputs": [
    {
     "data": {
      "text/plain": [
       "Index(['product_id', 'product_name', 'aisle_id', 'department_id', 'prices',\n",
       "       'order_id', 'user_id', 'order_number', 'orders_day_of_week',\n",
       "       'order_hour_of_day', 'days_since_prior_order', 'add_to_cart_order',\n",
       "       'reordered', 'price_label', 'busiest_day', 'busiest_days',\n",
       "       'busiest_period_of_day', 'max_order', 'loyalty_flag', 'avg_price',\n",
       "       'spending_flag', 'median_days_since_order', 'frequency_flag', 'gender',\n",
       "       'state', 'age', 'date_joined', 'n_dependants', 'fam_status', 'income',\n",
       "       'region', 'age_group', 'income_group', 'dependant_group',\n",
       "       'children_flag_x', 'children_flag_y', 'customer_profile'],\n",
       "      dtype='object')"
      ]
     },
     "execution_count": 74,
     "metadata": {},
     "output_type": "execute_result"
    }
   ],
   "source": [
    "ords_prods_profile.columns"
   ]
  },
  {
   "cell_type": "code",
   "execution_count": 75,
   "id": "7451849a",
   "metadata": {},
   "outputs": [
    {
     "data": {
      "text/plain": [
       "children_flag_x\n",
       "NaN              30554172\n",
       "With Children      410392\n",
       "Name: count, dtype: int64"
      ]
     },
     "execution_count": 75,
     "metadata": {},
     "output_type": "execute_result"
    }
   ],
   "source": [
    "#check now duplicated column 1 to find the most up to date one\n",
    "ords_prods_profile['children_flag_x'].value_counts(dropna=False)"
   ]
  },
  {
   "cell_type": "code",
   "execution_count": 76,
   "id": "53da992b",
   "metadata": {},
   "outputs": [
    {
     "data": {
      "text/plain": [
       "children_flag_y\n",
       "NaN              21154311\n",
       "With Children     9810253\n",
       "Name: count, dtype: int64"
      ]
     },
     "execution_count": 76,
     "metadata": {},
     "output_type": "execute_result"
    }
   ],
   "source": [
    "#check now duplicated column 2 to find the most up to date one\n",
    "ords_prods_profile['children_flag_y'].value_counts(dropna=False)"
   ]
  },
  {
   "cell_type": "code",
   "execution_count": 77,
   "id": "215271bb",
   "metadata": {},
   "outputs": [],
   "source": [
    "#delete children_flag_x (before it was applied to all orders by same customer)\n",
    "\n",
    "ords_prods_profile=ords_prods_profile.drop(columns='children_flag_x')"
   ]
  },
  {
   "cell_type": "code",
   "execution_count": 78,
   "id": "b8454b92",
   "metadata": {},
   "outputs": [],
   "source": [
    "#rename children_flag_y\n",
    "\n",
    "ords_prods_profile=ords_prods_profile.rename(columns={'children_flag_y':'children_flag'})"
   ]
  },
  {
   "cell_type": "code",
   "execution_count": 79,
   "id": "f8517eda",
   "metadata": {},
   "outputs": [
    {
     "data": {
      "text/plain": [
       "Index(['product_id', 'product_name', 'aisle_id', 'department_id', 'prices',\n",
       "       'order_id', 'user_id', 'order_number', 'orders_day_of_week',\n",
       "       'order_hour_of_day', 'days_since_prior_order', 'add_to_cart_order',\n",
       "       'reordered', 'price_label', 'busiest_day', 'busiest_days',\n",
       "       'busiest_period_of_day', 'max_order', 'loyalty_flag', 'avg_price',\n",
       "       'spending_flag', 'median_days_since_order', 'frequency_flag', 'gender',\n",
       "       'state', 'age', 'date_joined', 'n_dependants', 'fam_status', 'income',\n",
       "       'region', 'age_group', 'income_group', 'dependant_group',\n",
       "       'children_flag', 'customer_profile'],\n",
       "      dtype='object')"
      ]
     },
     "execution_count": 79,
     "metadata": {},
     "output_type": "execute_result"
    }
   ],
   "source": [
    "#check columns after deleting and renaming\n",
    "ords_prods_profile.columns"
   ]
  },
  {
   "cell_type": "code",
   "execution_count": 80,
   "id": "4165bbbe",
   "metadata": {},
   "outputs": [
    {
     "data": {
      "text/plain": [
       "(30964564, 36)"
      ]
     },
     "execution_count": 80,
     "metadata": {},
     "output_type": "execute_result"
    }
   ],
   "source": [
    "#check df shape\n",
    "ords_prods_profile.shape"
   ]
  },
  {
   "cell_type": "code",
   "execution_count": 81,
   "id": "53f51484",
   "metadata": {},
   "outputs": [],
   "source": [
    "#export dataframe\n",
    "\n",
    "ords_prods_profile.to_pickle(os.path.join(path,'02_Data','02_Prepared_Data','ords_prods_with_customer_profile.pkl'))"
   ]
  }
 ],
 "metadata": {
  "kernelspec": {
   "display_name": "Python 3 (ipykernel)",
   "language": "python",
   "name": "python3"
  },
  "language_info": {
   "codemirror_mode": {
    "name": "ipython",
    "version": 3
   },
   "file_extension": ".py",
   "mimetype": "text/x-python",
   "name": "python",
   "nbconvert_exporter": "python",
   "pygments_lexer": "ipython3",
   "version": "3.11.5"
  }
 },
 "nbformat": 4,
 "nbformat_minor": 5
}
